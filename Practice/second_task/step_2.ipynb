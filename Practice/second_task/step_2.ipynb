{
 "cells": [
  {
   "cell_type": "code",
   "execution_count": 1,
   "metadata": {},
   "outputs": [],
   "source": [
    "import pandas as pd"
   ]
  },
  {
   "cell_type": "code",
   "execution_count": 2,
   "metadata": {},
   "outputs": [],
   "source": [
    "aggregation = pd.read_excel('aggregation.xlsx')"
   ]
  },
  {
   "cell_type": "code",
   "execution_count": 3,
   "metadata": {},
   "outputs": [
    {
     "data": {
      "text/html": [
       "<div>\n",
       "<style scoped>\n",
       "    .dataframe tbody tr th:only-of-type {\n",
       "        vertical-align: middle;\n",
       "    }\n",
       "\n",
       "    .dataframe tbody tr th {\n",
       "        vertical-align: top;\n",
       "    }\n",
       "\n",
       "    .dataframe thead th {\n",
       "        text-align: right;\n",
       "    }\n",
       "</style>\n",
       "<table border=\"1\" class=\"dataframe\">\n",
       "  <thead>\n",
       "    <tr style=\"text-align: right;\">\n",
       "      <th></th>\n",
       "      <th>Unnamed: 0</th>\n",
       "      <th>user_id</th>\n",
       "      <th>product_type</th>\n",
       "      <th>interface</th>\n",
       "      <th>sale_dtm</th>\n",
       "      <th>event_type</th>\n",
       "      <th>event_dtm</th>\n",
       "      <th>event_status</th>\n",
       "      <th>source_medium</th>\n",
       "      <th>utm_campaign</th>\n",
       "      <th>campaign_start_dtm</th>\n",
       "      <th>campaign_end_dtm</th>\n",
       "      <th>campaign_type</th>\n",
       "      <th>payout</th>\n",
       "      <th>campaign_cost</th>\n",
       "    </tr>\n",
       "  </thead>\n",
       "  <tbody>\n",
       "    <tr>\n",
       "      <th>0</th>\n",
       "      <td>0</td>\n",
       "      <td>cc9450e76fd7a6b5e8f5bd14c0a9a4f1</td>\n",
       "      <td>loan</td>\n",
       "      <td>app</td>\n",
       "      <td>2023-06-15 21:20:43.703</td>\n",
       "      <td>click</td>\n",
       "      <td>2023-06-15 21:20:43.703</td>\n",
       "      <td>NaN</td>\n",
       "      <td>ios / mobile_app</td>\n",
       "      <td>brandkeys_light_mind</td>\n",
       "      <td>2023-06-02 07:54:25.593</td>\n",
       "      <td>2023-06-02 07:54:25.593</td>\n",
       "      <td>click</td>\n",
       "      <td>0.0</td>\n",
       "      <td>0.0</td>\n",
       "    </tr>\n",
       "    <tr>\n",
       "      <th>1</th>\n",
       "      <td>1</td>\n",
       "      <td>ba680bab37704cf1bff4c180bda7c31a</td>\n",
       "      <td>deposits</td>\n",
       "      <td>app</td>\n",
       "      <td>2023-02-19 05:22:29.299</td>\n",
       "      <td>show</td>\n",
       "      <td>2023-02-19 05:22:29.299</td>\n",
       "      <td>NaN</td>\n",
       "      <td>ru.android.bankproduct / mobile_app</td>\n",
       "      <td>title_target_market</td>\n",
       "      <td>2023-02-02 14:50:32.571</td>\n",
       "      <td>2023-02-02 14:50:32.571</td>\n",
       "      <td>show</td>\n",
       "      <td>NaN</td>\n",
       "      <td>NaN</td>\n",
       "    </tr>\n",
       "    <tr>\n",
       "      <th>2</th>\n",
       "      <td>2</td>\n",
       "      <td>6b2c800a06aaa250309e2028c5613ae2</td>\n",
       "      <td>loan</td>\n",
       "      <td>web</td>\n",
       "      <td>2023-05-23 07:14:19.645</td>\n",
       "      <td>show</td>\n",
       "      <td>2023-05-23 07:14:19.645</td>\n",
       "      <td>NaN</td>\n",
       "      <td>yandex / cpc</td>\n",
       "      <td>megamaket_target_reels</td>\n",
       "      <td>2023-05-13 06:43:56.328</td>\n",
       "      <td>2023-05-13 06:43:56.328</td>\n",
       "      <td>show</td>\n",
       "      <td>NaN</td>\n",
       "      <td>NaN</td>\n",
       "    </tr>\n",
       "    <tr>\n",
       "      <th>3</th>\n",
       "      <td>3</td>\n",
       "      <td>24e703a14dec52207ab4f41567ad0ea8</td>\n",
       "      <td>loan</td>\n",
       "      <td>web</td>\n",
       "      <td>2023-11-08 07:43:50.838</td>\n",
       "      <td>show</td>\n",
       "      <td>2023-11-08 07:43:50.838</td>\n",
       "      <td>NaN</td>\n",
       "      <td>yandex / cpc</td>\n",
       "      <td>rebrand_adv_market</td>\n",
       "      <td>2023-10-27 11:00:11.871</td>\n",
       "      <td>2023-10-27 11:00:11.871</td>\n",
       "      <td>show</td>\n",
       "      <td>NaN</td>\n",
       "      <td>NaN</td>\n",
       "    </tr>\n",
       "    <tr>\n",
       "      <th>4</th>\n",
       "      <td>4</td>\n",
       "      <td>87f8a9bcff77b3546bda9e13edccc995</td>\n",
       "      <td>deposits</td>\n",
       "      <td>app</td>\n",
       "      <td>2023-08-25 01:48:00.178</td>\n",
       "      <td>show</td>\n",
       "      <td>2023-08-25 01:48:00.178</td>\n",
       "      <td>NaN</td>\n",
       "      <td>ru.android.bankproduct / mobile_app</td>\n",
       "      <td>case_target_title</td>\n",
       "      <td>2023-08-20 20:41:04.555</td>\n",
       "      <td>2023-08-20 20:41:04.555</td>\n",
       "      <td>show</td>\n",
       "      <td>NaN</td>\n",
       "      <td>NaN</td>\n",
       "    </tr>\n",
       "  </tbody>\n",
       "</table>\n",
       "</div>"
      ],
      "text/plain": [
       "   Unnamed: 0                           user_id product_type interface  \\\n",
       "0           0  cc9450e76fd7a6b5e8f5bd14c0a9a4f1         loan       app   \n",
       "1           1  ba680bab37704cf1bff4c180bda7c31a     deposits       app   \n",
       "2           2  6b2c800a06aaa250309e2028c5613ae2         loan       web   \n",
       "3           3  24e703a14dec52207ab4f41567ad0ea8         loan       web   \n",
       "4           4  87f8a9bcff77b3546bda9e13edccc995     deposits       app   \n",
       "\n",
       "                 sale_dtm event_type               event_dtm event_status  \\\n",
       "0 2023-06-15 21:20:43.703      click 2023-06-15 21:20:43.703          NaN   \n",
       "1 2023-02-19 05:22:29.299       show 2023-02-19 05:22:29.299          NaN   \n",
       "2 2023-05-23 07:14:19.645       show 2023-05-23 07:14:19.645          NaN   \n",
       "3 2023-11-08 07:43:50.838       show 2023-11-08 07:43:50.838          NaN   \n",
       "4 2023-08-25 01:48:00.178       show 2023-08-25 01:48:00.178          NaN   \n",
       "\n",
       "                         source_medium            utm_campaign  \\\n",
       "0                     ios / mobile_app    brandkeys_light_mind   \n",
       "1  ru.android.bankproduct / mobile_app     title_target_market   \n",
       "2                         yandex / cpc  megamaket_target_reels   \n",
       "3                         yandex / cpc      rebrand_adv_market   \n",
       "4  ru.android.bankproduct / mobile_app       case_target_title   \n",
       "\n",
       "       campaign_start_dtm        campaign_end_dtm campaign_type  payout  \\\n",
       "0 2023-06-02 07:54:25.593 2023-06-02 07:54:25.593         click     0.0   \n",
       "1 2023-02-02 14:50:32.571 2023-02-02 14:50:32.571          show     NaN   \n",
       "2 2023-05-13 06:43:56.328 2023-05-13 06:43:56.328          show     NaN   \n",
       "3 2023-10-27 11:00:11.871 2023-10-27 11:00:11.871          show     NaN   \n",
       "4 2023-08-20 20:41:04.555 2023-08-20 20:41:04.555          show     NaN   \n",
       "\n",
       "   campaign_cost  \n",
       "0            0.0  \n",
       "1            NaN  \n",
       "2            NaN  \n",
       "3            NaN  \n",
       "4            NaN  "
      ]
     },
     "execution_count": 3,
     "metadata": {},
     "output_type": "execute_result"
    }
   ],
   "source": [
    "aggregation.head()"
   ]
  },
  {
   "cell_type": "code",
   "execution_count": 4,
   "metadata": {},
   "outputs": [
    {
     "name": "stdout",
     "output_type": "stream",
     "text": [
      "<class 'pandas.core.frame.DataFrame'>\n",
      "RangeIndex: 5682 entries, 0 to 5681\n",
      "Data columns (total 15 columns):\n",
      " #   Column              Non-Null Count  Dtype         \n",
      "---  ------              --------------  -----         \n",
      " 0   Unnamed: 0          5682 non-null   int64         \n",
      " 1   user_id             5682 non-null   object        \n",
      " 2   product_type        5682 non-null   object        \n",
      " 3   interface           5682 non-null   object        \n",
      " 4   sale_dtm            5682 non-null   datetime64[ns]\n",
      " 5   event_type          5682 non-null   object        \n",
      " 6   event_dtm           5682 non-null   datetime64[ns]\n",
      " 7   event_status        423 non-null    object        \n",
      " 8   source_medium       5682 non-null   object        \n",
      " 9   utm_campaign        5623 non-null   object        \n",
      " 10  campaign_start_dtm  5682 non-null   datetime64[ns]\n",
      " 11  campaign_end_dtm    5682 non-null   datetime64[ns]\n",
      " 12  campaign_type       5682 non-null   object        \n",
      " 13  payout              1480 non-null   float64       \n",
      " 14  campaign_cost       1560 non-null   float64       \n",
      "dtypes: datetime64[ns](4), float64(2), int64(1), object(8)\n",
      "memory usage: 666.0+ KB\n"
     ]
    }
   ],
   "source": [
    "aggregation.info()"
   ]
  },
  {
   "cell_type": "code",
   "execution_count": 5,
   "metadata": {},
   "outputs": [
    {
     "name": "stdout",
     "output_type": "stream",
     "text": [
      "3\n",
      "event_type\n",
      "show          3975\n",
      "click         1284\n",
      "conversion     423\n",
      "Name: count, dtype: int64\n"
     ]
    }
   ],
   "source": [
    "# Подсчитываем количество уникальных значений\n",
    "unique_count = aggregation['event_type'].nunique()\n",
    "\n",
    "# Визуализируем частоту появления каждого значения\n",
    "frequency = aggregation['event_type'].value_counts()\n",
    "\n",
    "print(unique_count)\n",
    "print(frequency)"
   ]
  },
  {
   "cell_type": "code",
   "execution_count": 14,
   "metadata": {},
   "outputs": [
    {
     "name": "stdout",
     "output_type": "stream",
     "text": [
      "Список пользователей с записью 'conversion':\n",
      "['13946ea247633457587d91662d7f45f9' '00ff98c1f7cf229580713dbffec3afdb'\n",
      " '34915d8a7f235eeb05b3b3761171ad72']\n"
     ]
    }
   ],
   "source": [
    "# Фильтрация данных для пользователей с записью \"conversion\"\n",
    "converted_users = aggregation[aggregation['event_type'] == 'conversion']['user_id'].unique()\n",
    "\n",
    "# Вывод списка пользователей с конверсией\n",
    "print(\"Список пользователей с записью 'conversion':\")\n",
    "print(converted_users)"
   ]
  },
  {
   "cell_type": "code",
   "execution_count": 8,
   "metadata": {},
   "outputs": [],
   "source": [
    "import statsmodels.api as sm"
   ]
  },
  {
   "cell_type": "code",
   "execution_count": 10,
   "metadata": {},
   "outputs": [
    {
     "name": "stdout",
     "output_type": "stream",
     "text": [
      "                            OLS Regression Results                            \n",
      "==============================================================================\n",
      "Dep. Variable:                 payout   R-squared:                         nan\n",
      "Model:                            OLS   Adj. R-squared:                    nan\n",
      "Method:                 Least Squares   F-statistic:                       nan\n",
      "Date:                Sun, 26 May 2024   Prob (F-statistic):                nan\n",
      "Time:                        15:49:43   Log-Likelihood:                    nan\n",
      "No. Observations:                 100   AIC:                               nan\n",
      "Df Residuals:                      98   BIC:                               nan\n",
      "Df Model:                           1                                         \n",
      "Covariance Type:            nonrobust                                         \n",
      "=================================================================================\n",
      "                    coef    std err          t      P>|t|      [0.025      0.975]\n",
      "---------------------------------------------------------------------------------\n",
      "const                nan        nan        nan        nan         nan         nan\n",
      "source_factor        nan        nan        nan        nan         nan         nan\n",
      "==============================================================================\n",
      "Omnibus:                          nan   Durbin-Watson:                     nan\n",
      "Prob(Omnibus):                    nan   Jarque-Bera (JB):                  nan\n",
      "Skew:                             nan   Prob(JB):                          nan\n",
      "Kurtosis:                         nan   Cond. No.                         2.07\n",
      "==============================================================================\n",
      "\n",
      "Notes:\n",
      "[1] Standard Errors assume that the covariance matrix of the errors is correctly specified.\n"
     ]
    }
   ],
   "source": [
    "# Преобразование данных для построения модели\n",
    "# Пример: использование столбца 'source_medium' в качестве фактора\n",
    "aggregation['source_factor'] = pd.factorize(aggregation['interface'])[0]\n",
    "\n",
    "# Построение линейной модели\n",
    "X = sm.add_constant(aggregation['source_factor'])  # Добавляем константу для свободного члена\n",
    "y = aggregation['payout']\n",
    "\n",
    "model = sm.OLS(y, X).fit()\n",
    "\n",
    "# Вывод результатов\n",
    "print(model.summary())"
   ]
  }
 ],
 "metadata": {
  "kernelspec": {
   "display_name": "Python 3",
   "language": "python",
   "name": "python3"
  },
  "language_info": {
   "codemirror_mode": {
    "name": "ipython",
    "version": 3
   },
   "file_extension": ".py",
   "mimetype": "text/x-python",
   "name": "python",
   "nbconvert_exporter": "python",
   "pygments_lexer": "ipython3",
   "version": "3.10.5"
  }
 },
 "nbformat": 4,
 "nbformat_minor": 2
}
