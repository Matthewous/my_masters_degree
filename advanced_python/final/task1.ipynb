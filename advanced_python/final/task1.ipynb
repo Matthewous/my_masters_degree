{
 "cells": [
  {
   "cell_type": "code",
   "execution_count": 1,
   "metadata": {},
   "outputs": [],
   "source": [
    "# Импортируем библиотеки\n",
    "\n",
    "import pandas as pd\n",
    "from pprint import pprint "
   ]
  },
  {
   "cell_type": "code",
   "execution_count": 2,
   "metadata": {},
   "outputs": [],
   "source": [
    "# Функция для вычленения года из названия фильма\n",
    "def production_year(title):\n",
    "    for year in years:\n",
    "        if year in title:\n",
    "            return int(year)\n",
    "    return 1900"
   ]
  },
  {
   "cell_type": "code",
   "execution_count": 3,
   "metadata": {},
   "outputs": [],
   "source": [
    "# считываем данные из файла\n",
    "df = pd.read_csv('movies_stats.csv')"
   ]
  },
  {
   "cell_type": "code",
   "execution_count": 4,
   "metadata": {},
   "outputs": [],
   "source": [
    "# Формируем список с годами\n",
    "years = [str(x) for x in range(1950, 2011)]"
   ]
  },
  {
   "cell_type": "code",
   "execution_count": 5,
   "metadata": {},
   "outputs": [],
   "source": [
    "# Применяем функцию production_year\n",
    "df['year'] = df['title'].apply(production_year)"
   ]
  },
  {
   "cell_type": "code",
   "execution_count": 6,
   "metadata": {},
   "outputs": [],
   "source": [
    "# считаем средний рейтинг фильмов по годам и сортируем по убыванию\n",
    "result = df.groupby('year')['rating'].mean().sort_values(ascending=False)"
   ]
  },
  {
   "cell_type": "code",
   "execution_count": 7,
   "metadata": {},
   "outputs": [
    {
     "name": "stdout",
     "output_type": "stream",
     "text": [
      "year\n",
      "1957    4.014241\n",
      "1972    4.011136\n",
      "1952    4.000000\n",
      "1954    3.994220\n",
      "1951    3.983539\n",
      "          ...   \n",
      "2005    3.448434\n",
      "2003    3.444777\n",
      "1996    3.426600\n",
      "1997    3.415764\n",
      "2000    3.356104\n",
      "Name: rating, Length: 62, dtype: float64\n"
     ]
    }
   ],
   "source": [
    "pprint(result)"
   ]
  }
 ],
 "metadata": {
  "kernelspec": {
   "display_name": "Python 3",
   "language": "python",
   "name": "python3"
  },
  "language_info": {
   "codemirror_mode": {
    "name": "ipython",
    "version": 3
   },
   "file_extension": ".py",
   "mimetype": "text/x-python",
   "name": "python",
   "nbconvert_exporter": "python",
   "pygments_lexer": "ipython3",
   "version": "3.10.5"
  },
  "orig_nbformat": 4
 },
 "nbformat": 4,
 "nbformat_minor": 2
}
