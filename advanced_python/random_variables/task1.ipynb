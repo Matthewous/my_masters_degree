{
 "cells": [
  {
   "cell_type": "markdown",
   "metadata": {},
   "source": [
    "С помощью python смоделировать игру против лотерейного автомата типа «777». \n",
    "Игрок платит 1 руб., после чего выпадает случайное целое число, равномерно распределённое от 0 до 999. \n",
    "При некоторых значениях числа игрок получает выигрыш:\n",
    "777: 200 руб.\n",
    "999: 100 руб.\n",
    "555: 50 руб.\n",
    "333: 15 руб.\n",
    "111: 10 руб.\n",
    "*77: 5 руб.\n",
    "**7: 3 руб.\n",
    "*00: 2 руб.\n",
    "**0: 1 руб.\n",
    "(* — любая цифра)\n",
    "Выгодна ли игра игроку? \n",
    "Сколько в среднем приобретает или теряет игрок за одну игру?"
   ]
  },
  {
   "cell_type": "code",
   "execution_count": 1,
   "metadata": {},
   "outputs": [
    {
     "name": "stdout",
     "output_type": "stream",
     "text": [
      "Средний выигрыш за одну игру: -0.19 руб.\n",
      "Игра не выгодна\n"
     ]
    }
   ],
   "source": [
    "import random\n",
    "\n",
    "def play_slot_machine():\n",
    "    result = random.randint(0, 999)\n",
    "\n",
    "    if result == 777:\n",
    "        return 200\n",
    "    elif result == 999:\n",
    "        return 100\n",
    "    elif result == 555:\n",
    "        return 50\n",
    "    elif result == 333:\n",
    "        return 15\n",
    "    elif result == 111:\n",
    "        return 10\n",
    "    elif result % 100 == 77:\n",
    "        return 5\n",
    "    elif result % 10 == 7:\n",
    "        return 3\n",
    "    elif result % 100 == 0:\n",
    "        return 2\n",
    "    elif result % 10 == 0:\n",
    "        return 1\n",
    "    else:\n",
    "        return 0\n",
    "\n",
    "def simulate_game(num_simulations):\n",
    "    total_winnings = 0\n",
    "\n",
    "    for _ in range(num_simulations):\n",
    "        total_winnings += play_slot_machine() - 1  # игрок платит 1 руб.\n",
    "\n",
    "    average_winnings = total_winnings / num_simulations\n",
    "    return average_winnings\n",
    "\n",
    "num_simulations = 100000  # количество симуляций\n",
    "average_winnings = simulate_game(num_simulations)\n",
    "\n",
    "print(f\"Средний выигрыш за одну игру: {average_winnings:.2f} руб.\")\n",
    "print(f\"Игра {'выгодна' if average_winnings > 0 else 'не выгодна'}\")"
   ]
  }
 ],
 "metadata": {
  "kernelspec": {
   "display_name": "Python 3",
   "language": "python",
   "name": "python3"
  },
  "language_info": {
   "codemirror_mode": {
    "name": "ipython",
    "version": 3
   },
   "file_extension": ".py",
   "mimetype": "text/x-python",
   "name": "python",
   "nbconvert_exporter": "python",
   "pygments_lexer": "ipython3",
   "version": "3.10.5"
  },
  "orig_nbformat": 4
 },
 "nbformat": 4,
 "nbformat_minor": 2
}
