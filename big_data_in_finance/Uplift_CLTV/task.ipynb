{
 "cells": [
  {
   "cell_type": "code",
   "execution_count": 1,
   "metadata": {},
   "outputs": [],
   "source": [
    "# load packages\n",
    "import numpy as np\n",
    "import pandas as pd\n",
    "\n",
    "from statsmodels.stats.proportion import proportions_ztest\n",
    "\n",
    "import sklearn as sk\n",
    "from sklearn.metrics import auc\n",
    "import xgboost as xgb\n",
    "\n",
    "import matplotlib as mpl\n",
    "import matplotlib.pyplot as plt\n",
    "%matplotlib inline\n",
    "\n",
    "import pickle"
   ]
  },
  {
   "cell_type": "code",
   "execution_count": 3,
   "metadata": {},
   "outputs": [
    {
     "name": "stdout",
     "output_type": "stream",
     "text": [
      "<class 'pandas.core.frame.DataFrame'>\n",
      "RangeIndex: 10000 entries, 0 to 9999\n",
      "Data columns (total 43 columns):\n",
      " #   Column                      Non-Null Count  Dtype  \n",
      "---  ------                      --------------  -----  \n",
      " 0   Unnamed: 0                  10000 non-null  int64  \n",
      " 1   trial_id                    10000 non-null  int64  \n",
      " 2   treatment_group_key         10000 non-null  object \n",
      " 3   conversion                  10000 non-null  int64  \n",
      " 4   control_conversion_prob     10000 non-null  float64\n",
      " 5   treatment1_conversion_prob  10000 non-null  float64\n",
      " 6   treatment1_true_effect      10000 non-null  float64\n",
      " 7   x1_informative              10000 non-null  float64\n",
      " 8   x2_informative              10000 non-null  float64\n",
      " 9   x3_informative              10000 non-null  float64\n",
      " 10  x4_informative              10000 non-null  float64\n",
      " 11  x5_informative              10000 non-null  float64\n",
      " 12  x6_informative              10000 non-null  float64\n",
      " 13  x7_informative              10000 non-null  float64\n",
      " 14  x8_informative              10000 non-null  float64\n",
      " 15  x9_informative              10000 non-null  float64\n",
      " 16  x10_informative             10000 non-null  float64\n",
      " 17  x11_irrelevant              10000 non-null  float64\n",
      " 18  x12_irrelevant              10000 non-null  float64\n",
      " 19  x13_irrelevant              10000 non-null  float64\n",
      " 20  x14_irrelevant              10000 non-null  float64\n",
      " 21  x15_irrelevant              10000 non-null  float64\n",
      " 22  x16_irrelevant              10000 non-null  float64\n",
      " 23  x17_irrelevant              10000 non-null  float64\n",
      " 24  x18_irrelevant              10000 non-null  float64\n",
      " 25  x19_irrelevant              10000 non-null  float64\n",
      " 26  x20_irrelevant              10000 non-null  float64\n",
      " 27  x21_irrelevant              10000 non-null  float64\n",
      " 28  x22_irrelevant              10000 non-null  float64\n",
      " 29  x23_irrelevant              10000 non-null  float64\n",
      " 30  x24_irrelevant              10000 non-null  float64\n",
      " 31  x25_irrelevant              10000 non-null  float64\n",
      " 32  x26_irrelevant              10000 non-null  float64\n",
      " 33  x27_irrelevant              10000 non-null  float64\n",
      " 34  x28_irrelevant              10000 non-null  float64\n",
      " 35  x29_irrelevant              10000 non-null  float64\n",
      " 36  x30_irrelevant              10000 non-null  float64\n",
      " 37  x31_uplift_increase         10000 non-null  float64\n",
      " 38  x32_uplift_increase         10000 non-null  float64\n",
      " 39  x33_uplift_increase         10000 non-null  float64\n",
      " 40  x34_uplift_increase         10000 non-null  float64\n",
      " 41  x35_uplift_increase         10000 non-null  float64\n",
      " 42  x36_uplift_increase         10000 non-null  float64\n",
      "dtypes: float64(39), int64(3), object(1)\n",
      "memory usage: 3.3+ MB\n"
     ]
    }
   ],
   "source": [
    "df = pd.read_csv('./Uplift_CLTV/uplift_synthetic_data_100trials.csv', nrows=10000)\n",
    "df.info()"
   ]
  },
  {
   "cell_type": "code",
   "execution_count": 4,
   "metadata": {},
   "outputs": [
    {
     "data": {
      "text/html": [
       "<div>\n",
       "<style scoped>\n",
       "    .dataframe tbody tr th:only-of-type {\n",
       "        vertical-align: middle;\n",
       "    }\n",
       "\n",
       "    .dataframe tbody tr th {\n",
       "        vertical-align: top;\n",
       "    }\n",
       "\n",
       "    .dataframe thead th {\n",
       "        text-align: right;\n",
       "    }\n",
       "</style>\n",
       "<table border=\"1\" class=\"dataframe\">\n",
       "  <thead>\n",
       "    <tr style=\"text-align: right;\">\n",
       "      <th></th>\n",
       "      <th>Unnamed: 0</th>\n",
       "      <th>trial_id</th>\n",
       "      <th>treatment_group_key</th>\n",
       "      <th>conversion</th>\n",
       "      <th>control_conversion_prob</th>\n",
       "      <th>treatment1_conversion_prob</th>\n",
       "      <th>treatment1_true_effect</th>\n",
       "      <th>x1_informative</th>\n",
       "      <th>x2_informative</th>\n",
       "      <th>x3_informative</th>\n",
       "      <th>...</th>\n",
       "      <th>x27_irrelevant</th>\n",
       "      <th>x28_irrelevant</th>\n",
       "      <th>x29_irrelevant</th>\n",
       "      <th>x30_irrelevant</th>\n",
       "      <th>x31_uplift_increase</th>\n",
       "      <th>x32_uplift_increase</th>\n",
       "      <th>x33_uplift_increase</th>\n",
       "      <th>x34_uplift_increase</th>\n",
       "      <th>x35_uplift_increase</th>\n",
       "      <th>x36_uplift_increase</th>\n",
       "    </tr>\n",
       "  </thead>\n",
       "  <tbody>\n",
       "    <tr>\n",
       "      <th>0</th>\n",
       "      <td>0</td>\n",
       "      <td>0</td>\n",
       "      <td>control</td>\n",
       "      <td>1</td>\n",
       "      <td>0.516606</td>\n",
       "      <td>0.572609</td>\n",
       "      <td>0.056002</td>\n",
       "      <td>-1.926651</td>\n",
       "      <td>1.233472</td>\n",
       "      <td>-0.475120</td>\n",
       "      <td>...</td>\n",
       "      <td>-0.378145</td>\n",
       "      <td>-0.110782</td>\n",
       "      <td>1.087180</td>\n",
       "      <td>-1.222069</td>\n",
       "      <td>-0.279009</td>\n",
       "      <td>1.013911</td>\n",
       "      <td>-0.570859</td>\n",
       "      <td>-1.158216</td>\n",
       "      <td>-1.336279</td>\n",
       "      <td>-0.708056</td>\n",
       "    </tr>\n",
       "    <tr>\n",
       "      <th>1</th>\n",
       "      <td>1</td>\n",
       "      <td>0</td>\n",
       "      <td>treatment1</td>\n",
       "      <td>1</td>\n",
       "      <td>0.304005</td>\n",
       "      <td>0.736460</td>\n",
       "      <td>0.432454</td>\n",
       "      <td>0.904364</td>\n",
       "      <td>0.868705</td>\n",
       "      <td>-0.285977</td>\n",
       "      <td>...</td>\n",
       "      <td>-0.742847</td>\n",
       "      <td>0.700239</td>\n",
       "      <td>0.001867</td>\n",
       "      <td>-0.069362</td>\n",
       "      <td>0.045789</td>\n",
       "      <td>1.364182</td>\n",
       "      <td>-0.261643</td>\n",
       "      <td>0.478074</td>\n",
       "      <td>0.531477</td>\n",
       "      <td>0.402723</td>\n",
       "    </tr>\n",
       "    <tr>\n",
       "      <th>2</th>\n",
       "      <td>2</td>\n",
       "      <td>0</td>\n",
       "      <td>treatment1</td>\n",
       "      <td>0</td>\n",
       "      <td>0.134277</td>\n",
       "      <td>0.480985</td>\n",
       "      <td>0.346709</td>\n",
       "      <td>1.680978</td>\n",
       "      <td>1.320889</td>\n",
       "      <td>0.059273</td>\n",
       "      <td>...</td>\n",
       "      <td>0.748884</td>\n",
       "      <td>-0.856898</td>\n",
       "      <td>-0.268034</td>\n",
       "      <td>-2.181874</td>\n",
       "      <td>1.473214</td>\n",
       "      <td>-1.256641</td>\n",
       "      <td>0.901139</td>\n",
       "      <td>2.029204</td>\n",
       "      <td>-0.280445</td>\n",
       "      <td>0.873970</td>\n",
       "    </tr>\n",
       "    <tr>\n",
       "      <th>3</th>\n",
       "      <td>3</td>\n",
       "      <td>0</td>\n",
       "      <td>treatment1</td>\n",
       "      <td>1</td>\n",
       "      <td>0.801968</td>\n",
       "      <td>0.858532</td>\n",
       "      <td>0.056563</td>\n",
       "      <td>-0.335774</td>\n",
       "      <td>-2.940232</td>\n",
       "      <td>-0.302521</td>\n",
       "      <td>...</td>\n",
       "      <td>0.151074</td>\n",
       "      <td>0.067547</td>\n",
       "      <td>-0.839246</td>\n",
       "      <td>0.587575</td>\n",
       "      <td>0.412081</td>\n",
       "      <td>0.141189</td>\n",
       "      <td>0.369611</td>\n",
       "      <td>-0.364984</td>\n",
       "      <td>-1.509045</td>\n",
       "      <td>-1.335023</td>\n",
       "    </tr>\n",
       "    <tr>\n",
       "      <th>4</th>\n",
       "      <td>4</td>\n",
       "      <td>0</td>\n",
       "      <td>control</td>\n",
       "      <td>0</td>\n",
       "      <td>0.063552</td>\n",
       "      <td>0.060142</td>\n",
       "      <td>-0.003410</td>\n",
       "      <td>-0.475881</td>\n",
       "      <td>-0.485793</td>\n",
       "      <td>0.978582</td>\n",
       "      <td>...</td>\n",
       "      <td>-1.287117</td>\n",
       "      <td>1.256396</td>\n",
       "      <td>-1.155307</td>\n",
       "      <td>-0.414787</td>\n",
       "      <td>1.163851</td>\n",
       "      <td>0.698114</td>\n",
       "      <td>0.088157</td>\n",
       "      <td>0.478717</td>\n",
       "      <td>-0.680588</td>\n",
       "      <td>-2.730850</td>\n",
       "    </tr>\n",
       "  </tbody>\n",
       "</table>\n",
       "<p>5 rows × 43 columns</p>\n",
       "</div>"
      ],
      "text/plain": [
       "   Unnamed: 0  trial_id treatment_group_key  conversion  \\\n",
       "0           0         0             control           1   \n",
       "1           1         0          treatment1           1   \n",
       "2           2         0          treatment1           0   \n",
       "3           3         0          treatment1           1   \n",
       "4           4         0             control           0   \n",
       "\n",
       "   control_conversion_prob  treatment1_conversion_prob  \\\n",
       "0                 0.516606                    0.572609   \n",
       "1                 0.304005                    0.736460   \n",
       "2                 0.134277                    0.480985   \n",
       "3                 0.801968                    0.858532   \n",
       "4                 0.063552                    0.060142   \n",
       "\n",
       "   treatment1_true_effect  x1_informative  x2_informative  x3_informative  \\\n",
       "0                0.056002       -1.926651        1.233472       -0.475120   \n",
       "1                0.432454        0.904364        0.868705       -0.285977   \n",
       "2                0.346709        1.680978        1.320889        0.059273   \n",
       "3                0.056563       -0.335774       -2.940232       -0.302521   \n",
       "4               -0.003410       -0.475881       -0.485793        0.978582   \n",
       "\n",
       "   ...  x27_irrelevant  x28_irrelevant  x29_irrelevant  x30_irrelevant  \\\n",
       "0  ...       -0.378145       -0.110782        1.087180       -1.222069   \n",
       "1  ...       -0.742847        0.700239        0.001867       -0.069362   \n",
       "2  ...        0.748884       -0.856898       -0.268034       -2.181874   \n",
       "3  ...        0.151074        0.067547       -0.839246        0.587575   \n",
       "4  ...       -1.287117        1.256396       -1.155307       -0.414787   \n",
       "\n",
       "   x31_uplift_increase  x32_uplift_increase  x33_uplift_increase  \\\n",
       "0            -0.279009             1.013911            -0.570859   \n",
       "1             0.045789             1.364182            -0.261643   \n",
       "2             1.473214            -1.256641             0.901139   \n",
       "3             0.412081             0.141189             0.369611   \n",
       "4             1.163851             0.698114             0.088157   \n",
       "\n",
       "   x34_uplift_increase  x35_uplift_increase  x36_uplift_increase  \n",
       "0            -1.158216            -1.336279            -0.708056  \n",
       "1             0.478074             0.531477             0.402723  \n",
       "2             2.029204            -0.280445             0.873970  \n",
       "3            -0.364984            -1.509045            -1.335023  \n",
       "4             0.478717            -0.680588            -2.730850  \n",
       "\n",
       "[5 rows x 43 columns]"
      ]
     },
     "execution_count": 4,
     "metadata": {},
     "output_type": "execute_result"
    }
   ],
   "source": [
    "df.head()"
   ]
  },
  {
   "cell_type": "code",
   "execution_count": 5,
   "metadata": {},
   "outputs": [
    {
     "data": {
      "text/plain": [
       "treatment_group_key\n",
       "control       5000\n",
       "treatment1    5000\n",
       "Name: count, dtype: int64"
      ]
     },
     "execution_count": 5,
     "metadata": {},
     "output_type": "execute_result"
    }
   ],
   "source": [
    "df['treatment_group_key'].value_counts()"
   ]
  },
  {
   "cell_type": "code",
   "execution_count": 6,
   "metadata": {},
   "outputs": [],
   "source": [
    "df['treatment_group_key'] = df['treatment_group_key'].map(arg={'control':0, 'treatment1':1})"
   ]
  },
  {
   "cell_type": "code",
   "execution_count": 7,
   "metadata": {},
   "outputs": [
    {
     "data": {
      "text/plain": [
       "0.3191"
      ]
     },
     "execution_count": 7,
     "metadata": {},
     "output_type": "execute_result"
    }
   ],
   "source": [
    "df['conversion'].mean()"
   ]
  },
  {
   "cell_type": "code",
   "execution_count": 8,
   "metadata": {},
   "outputs": [
    {
     "data": {
      "text/html": [
       "<div>\n",
       "<style scoped>\n",
       "    .dataframe tbody tr th:only-of-type {\n",
       "        vertical-align: middle;\n",
       "    }\n",
       "\n",
       "    .dataframe tbody tr th {\n",
       "        vertical-align: top;\n",
       "    }\n",
       "\n",
       "    .dataframe thead tr th {\n",
       "        text-align: left;\n",
       "    }\n",
       "\n",
       "    .dataframe thead tr:last-of-type th {\n",
       "        text-align: right;\n",
       "    }\n",
       "</style>\n",
       "<table border=\"1\" class=\"dataframe\">\n",
       "  <thead>\n",
       "    <tr>\n",
       "      <th></th>\n",
       "      <th colspan=\"3\" halign=\"left\">conversion</th>\n",
       "    </tr>\n",
       "    <tr>\n",
       "      <th></th>\n",
       "      <th>mean</th>\n",
       "      <th>sum</th>\n",
       "      <th>count</th>\n",
       "    </tr>\n",
       "    <tr>\n",
       "      <th>treatment_group_key</th>\n",
       "      <th></th>\n",
       "      <th></th>\n",
       "      <th></th>\n",
       "    </tr>\n",
       "  </thead>\n",
       "  <tbody>\n",
       "    <tr>\n",
       "      <th>0</th>\n",
       "      <td>0.2670</td>\n",
       "      <td>1335</td>\n",
       "      <td>5000</td>\n",
       "    </tr>\n",
       "    <tr>\n",
       "      <th>1</th>\n",
       "      <td>0.3712</td>\n",
       "      <td>1856</td>\n",
       "      <td>5000</td>\n",
       "    </tr>\n",
       "  </tbody>\n",
       "</table>\n",
       "</div>"
      ],
      "text/plain": [
       "                    conversion            \n",
       "                          mean   sum count\n",
       "treatment_group_key                       \n",
       "0                       0.2670  1335  5000\n",
       "1                       0.3712  1856  5000"
      ]
     },
     "execution_count": 8,
     "metadata": {},
     "output_type": "execute_result"
    }
   ],
   "source": [
    "exp_results_df = \\\n",
    "df.groupby('treatment_group_key').agg({'conversion':['mean', 'sum', 'count']})\n",
    "exp_results_df"
   ]
  },
  {
   "cell_type": "code",
   "execution_count": 9,
   "metadata": {},
   "outputs": [
    {
     "data": {
      "text/plain": [
       "0.1042"
      ]
     },
     "execution_count": 9,
     "metadata": {},
     "output_type": "execute_result"
    }
   ],
   "source": [
    "(exp_results_df.loc[1,('conversion', 'mean')]\n",
    " - exp_results_df.loc[0,('conversion', 'mean')]).round(4)"
   ]
  },
  {
   "cell_type": "code",
   "execution_count": 10,
   "metadata": {},
   "outputs": [
    {
     "data": {
      "text/plain": [
       "(-11.177190529878043, 5.273302441543889e-29)"
      ]
     },
     "execution_count": 10,
     "metadata": {},
     "output_type": "execute_result"
    }
   ],
   "source": [
    "proportions_ztest(count=exp_results_df[('conversion', 'sum')],\n",
    "                  nobs=exp_results_df[('conversion', 'count')])"
   ]
  },
  {
   "cell_type": "code",
   "execution_count": 11,
   "metadata": {},
   "outputs": [
    {
     "name": "stdout",
     "output_type": "stream",
     "text": [
      "(8000, 43) (2000, 43)\n"
     ]
    }
   ],
   "source": [
    "train, valid = sk.model_selection.train_test_split(df, test_size=0.2,random_state=42)\n",
    "print(train.shape, valid.shape)"
   ]
  },
  {
   "cell_type": "code",
   "execution_count": 12,
   "metadata": {},
   "outputs": [
    {
     "name": "stdout",
     "output_type": "stream",
     "text": [
      "['treatment_group_key', 'x1_informative', 'x2_informative', 'x3_informative', 'x4_informative', 'x5_informative', 'x6_informative', 'x7_informative', 'x8_informative', 'x9_informative', 'x10_informative', 'x11_irrelevant', 'x12_irrelevant', 'x13_irrelevant', 'x14_irrelevant', 'x15_irrelevant', 'x16_irrelevant', 'x17_irrelevant', 'x18_irrelevant', 'x19_irrelevant', 'x20_irrelevant', 'x21_irrelevant', 'x22_irrelevant', 'x23_irrelevant', 'x24_irrelevant', 'x25_irrelevant', 'x26_irrelevant', 'x27_irrelevant', 'x28_irrelevant', 'x29_irrelevant', 'x30_irrelevant', 'x31_uplift_increase', 'x32_uplift_increase', 'x33_uplift_increase', 'x34_uplift_increase', 'x35_uplift_increase', 'x36_uplift_increase']\n"
     ]
    }
   ],
   "source": [
    "features = ['treatment_group_key'] + df.columns.tolist()[7:]\n",
    "print(features)"
   ]
  },
  {
   "cell_type": "code",
   "execution_count": 13,
   "metadata": {},
   "outputs": [],
   "source": [
    "X_train = train[features]\n",
    "y_train = train['conversion']\n",
    "X_valid = valid[features]\n",
    "y_valid = valid['conversion']"
   ]
  },
  {
   "cell_type": "code",
   "execution_count": 14,
   "metadata": {},
   "outputs": [],
   "source": [
    "eval_set = [(X_train, y_train), (X_valid, y_valid)]"
   ]
  },
  {
   "cell_type": "code",
   "execution_count": 15,
   "metadata": {},
   "outputs": [],
   "source": [
    "# Train an xgboost model\n",
    "model = xgb.XGBClassifier(learning_rate = 0.1,\n",
    "                          max_depth = 6,\n",
    "                          min_child_weight = 100,\n",
    "                          objective = 'binary:logistic',\n",
    "                          seed = 42,\n",
    "                          gamma = 0.1,\n",
    "                          silent = True,\n",
    "                          n_jobs=2)"
   ]
  },
  {
   "cell_type": "code",
   "execution_count": 17,
   "metadata": {},
   "outputs": [
    {
     "name": "stdout",
     "output_type": "stream",
     "text": [
      "[0]\tvalidation_0-auc:0.68451\tvalidation_1-auc:0.64675\n",
      "[1]\tvalidation_0-auc:0.71737\tvalidation_1-auc:0.67071\n",
      "[2]\tvalidation_0-auc:0.72959\tvalidation_1-auc:0.67839\n",
      "[3]\tvalidation_0-auc:0.73544\tvalidation_1-auc:0.67805\n"
     ]
    },
    {
     "name": "stderr",
     "output_type": "stream",
     "text": [
      "/Library/Frameworks/Python.framework/Versions/3.10/lib/python3.10/site-packages/xgboost/sklearn.py:885: UserWarning: `eval_metric` in `fit` method is deprecated for better compatibility with scikit-learn, use `eval_metric` in constructor or`set_params` instead.\n",
      "  warnings.warn(\n",
      "/Library/Frameworks/Python.framework/Versions/3.10/lib/python3.10/site-packages/xgboost/sklearn.py:885: UserWarning: `early_stopping_rounds` in `fit` method is deprecated for better compatibility with scikit-learn, use `early_stopping_rounds` in constructor or`set_params` instead.\n",
      "  warnings.warn(\n",
      "/Library/Frameworks/Python.framework/Versions/3.10/lib/python3.10/site-packages/xgboost/core.py:160: UserWarning: [23:48:15] WARNING: /Users/runner/work/xgboost/xgboost/src/learner.cc:742: \n",
      "Parameters: { \"silent\" } are not used.\n",
      "\n",
      "  warnings.warn(smsg, UserWarning)\n"
     ]
    },
    {
     "name": "stdout",
     "output_type": "stream",
     "text": [
      "[4]\tvalidation_0-auc:0.73926\tvalidation_1-auc:0.68467\n",
      "[5]\tvalidation_0-auc:0.74544\tvalidation_1-auc:0.68894\n",
      "[6]\tvalidation_0-auc:0.74564\tvalidation_1-auc:0.68628\n",
      "[7]\tvalidation_0-auc:0.74991\tvalidation_1-auc:0.69151\n",
      "[8]\tvalidation_0-auc:0.75218\tvalidation_1-auc:0.69527\n",
      "[9]\tvalidation_0-auc:0.75437\tvalidation_1-auc:0.70116\n",
      "[10]\tvalidation_0-auc:0.75690\tvalidation_1-auc:0.70208\n",
      "[11]\tvalidation_0-auc:0.75785\tvalidation_1-auc:0.70283\n",
      "[12]\tvalidation_0-auc:0.76098\tvalidation_1-auc:0.70403\n",
      "[13]\tvalidation_0-auc:0.76391\tvalidation_1-auc:0.70650\n",
      "[14]\tvalidation_0-auc:0.76874\tvalidation_1-auc:0.70859\n",
      "[15]\tvalidation_0-auc:0.77023\tvalidation_1-auc:0.70866\n",
      "[16]\tvalidation_0-auc:0.77223\tvalidation_1-auc:0.71108\n",
      "[17]\tvalidation_0-auc:0.77353\tvalidation_1-auc:0.71300\n",
      "[18]\tvalidation_0-auc:0.77531\tvalidation_1-auc:0.71493\n",
      "[19]\tvalidation_0-auc:0.77967\tvalidation_1-auc:0.71888\n",
      "[20]\tvalidation_0-auc:0.78085\tvalidation_1-auc:0.71976\n",
      "[21]\tvalidation_0-auc:0.78272\tvalidation_1-auc:0.72108\n",
      "[22]\tvalidation_0-auc:0.78594\tvalidation_1-auc:0.72335\n",
      "[23]\tvalidation_0-auc:0.78650\tvalidation_1-auc:0.72331\n",
      "[24]\tvalidation_0-auc:0.78729\tvalidation_1-auc:0.72335\n",
      "[25]\tvalidation_0-auc:0.78961\tvalidation_1-auc:0.72539\n",
      "[26]\tvalidation_0-auc:0.79082\tvalidation_1-auc:0.72515\n",
      "[27]\tvalidation_0-auc:0.79152\tvalidation_1-auc:0.72587\n",
      "[28]\tvalidation_0-auc:0.79384\tvalidation_1-auc:0.72795\n",
      "[29]\tvalidation_0-auc:0.79415\tvalidation_1-auc:0.72866\n",
      "[30]\tvalidation_0-auc:0.79621\tvalidation_1-auc:0.73062\n",
      "[31]\tvalidation_0-auc:0.79804\tvalidation_1-auc:0.73148\n",
      "[32]\tvalidation_0-auc:0.79898\tvalidation_1-auc:0.73132\n",
      "[33]\tvalidation_0-auc:0.80029\tvalidation_1-auc:0.73297\n",
      "[34]\tvalidation_0-auc:0.80209\tvalidation_1-auc:0.73474\n",
      "[35]\tvalidation_0-auc:0.80306\tvalidation_1-auc:0.73568\n",
      "[36]\tvalidation_0-auc:0.80472\tvalidation_1-auc:0.73646\n",
      "[37]\tvalidation_0-auc:0.80634\tvalidation_1-auc:0.73614\n",
      "[38]\tvalidation_0-auc:0.80837\tvalidation_1-auc:0.73836\n",
      "[39]\tvalidation_0-auc:0.80964\tvalidation_1-auc:0.73920\n",
      "[40]\tvalidation_0-auc:0.81028\tvalidation_1-auc:0.73911\n",
      "[41]\tvalidation_0-auc:0.81107\tvalidation_1-auc:0.73941\n",
      "[42]\tvalidation_0-auc:0.81139\tvalidation_1-auc:0.73950\n",
      "[43]\tvalidation_0-auc:0.81280\tvalidation_1-auc:0.74131\n",
      "[44]\tvalidation_0-auc:0.81336\tvalidation_1-auc:0.74118\n",
      "[45]\tvalidation_0-auc:0.81482\tvalidation_1-auc:0.74262\n",
      "[46]\tvalidation_0-auc:0.81562\tvalidation_1-auc:0.74283\n",
      "[47]\tvalidation_0-auc:0.81630\tvalidation_1-auc:0.74338\n",
      "[48]\tvalidation_0-auc:0.81773\tvalidation_1-auc:0.74489\n",
      "[49]\tvalidation_0-auc:0.81821\tvalidation_1-auc:0.74555\n",
      "[50]\tvalidation_0-auc:0.81936\tvalidation_1-auc:0.74648\n",
      "[51]\tvalidation_0-auc:0.82057\tvalidation_1-auc:0.74667\n",
      "[52]\tvalidation_0-auc:0.82128\tvalidation_1-auc:0.74712\n",
      "[53]\tvalidation_0-auc:0.82256\tvalidation_1-auc:0.74800\n",
      "[54]\tvalidation_0-auc:0.82280\tvalidation_1-auc:0.74829\n",
      "[55]\tvalidation_0-auc:0.82289\tvalidation_1-auc:0.74841\n",
      "[56]\tvalidation_0-auc:0.82412\tvalidation_1-auc:0.74987\n",
      "[57]\tvalidation_0-auc:0.82484\tvalidation_1-auc:0.75006\n",
      "[58]\tvalidation_0-auc:0.82591\tvalidation_1-auc:0.75047\n",
      "[59]\tvalidation_0-auc:0.82656\tvalidation_1-auc:0.75042\n",
      "[60]\tvalidation_0-auc:0.82733\tvalidation_1-auc:0.75155\n",
      "[61]\tvalidation_0-auc:0.82792\tvalidation_1-auc:0.75170\n",
      "[62]\tvalidation_0-auc:0.82862\tvalidation_1-auc:0.75159\n",
      "[63]\tvalidation_0-auc:0.82937\tvalidation_1-auc:0.75164\n",
      "[64]\tvalidation_0-auc:0.82991\tvalidation_1-auc:0.75113\n",
      "[65]\tvalidation_0-auc:0.83086\tvalidation_1-auc:0.75201\n",
      "[66]\tvalidation_0-auc:0.83108\tvalidation_1-auc:0.75145\n",
      "[67]\tvalidation_0-auc:0.83134\tvalidation_1-auc:0.75185\n",
      "[68]\tvalidation_0-auc:0.83202\tvalidation_1-auc:0.75185\n",
      "[69]\tvalidation_0-auc:0.83290\tvalidation_1-auc:0.75242\n",
      "[70]\tvalidation_0-auc:0.83378\tvalidation_1-auc:0.75220\n",
      "[71]\tvalidation_0-auc:0.83460\tvalidation_1-auc:0.75337\n",
      "[72]\tvalidation_0-auc:0.83516\tvalidation_1-auc:0.75341\n",
      "[73]\tvalidation_0-auc:0.83542\tvalidation_1-auc:0.75311\n",
      "[74]\tvalidation_0-auc:0.83595\tvalidation_1-auc:0.75383\n",
      "[75]\tvalidation_0-auc:0.83674\tvalidation_1-auc:0.75412\n",
      "[76]\tvalidation_0-auc:0.83724\tvalidation_1-auc:0.75439\n",
      "[77]\tvalidation_0-auc:0.83794\tvalidation_1-auc:0.75495\n",
      "[78]\tvalidation_0-auc:0.83846\tvalidation_1-auc:0.75466\n",
      "[79]\tvalidation_0-auc:0.83866\tvalidation_1-auc:0.75480\n",
      "[80]\tvalidation_0-auc:0.83914\tvalidation_1-auc:0.75514\n",
      "[81]\tvalidation_0-auc:0.83951\tvalidation_1-auc:0.75487\n",
      "[82]\tvalidation_0-auc:0.84048\tvalidation_1-auc:0.75510\n",
      "[83]\tvalidation_0-auc:0.84132\tvalidation_1-auc:0.75440\n",
      "[84]\tvalidation_0-auc:0.84204\tvalidation_1-auc:0.75495\n",
      "[85]\tvalidation_0-auc:0.84276\tvalidation_1-auc:0.75481\n",
      "[86]\tvalidation_0-auc:0.84292\tvalidation_1-auc:0.75506\n",
      "[87]\tvalidation_0-auc:0.84345\tvalidation_1-auc:0.75429\n",
      "[88]\tvalidation_0-auc:0.84390\tvalidation_1-auc:0.75476\n",
      "[89]\tvalidation_0-auc:0.84457\tvalidation_1-auc:0.75506\n",
      "[90]\tvalidation_0-auc:0.84484\tvalidation_1-auc:0.75488\n",
      "[91]\tvalidation_0-auc:0.84530\tvalidation_1-auc:0.75468\n",
      "[92]\tvalidation_0-auc:0.84584\tvalidation_1-auc:0.75466\n",
      "[93]\tvalidation_0-auc:0.84658\tvalidation_1-auc:0.75468\n",
      "[94]\tvalidation_0-auc:0.84723\tvalidation_1-auc:0.75492\n",
      "[95]\tvalidation_0-auc:0.84809\tvalidation_1-auc:0.75542\n",
      "[96]\tvalidation_0-auc:0.84865\tvalidation_1-auc:0.75512\n",
      "[97]\tvalidation_0-auc:0.84914\tvalidation_1-auc:0.75542\n",
      "[98]\tvalidation_0-auc:0.84960\tvalidation_1-auc:0.75459\n",
      "[99]\tvalidation_0-auc:0.85026\tvalidation_1-auc:0.75458\n",
      "CPU times: user 1.65 s, sys: 118 ms, total: 1.77 s\n",
      "Wall time: 2.23 s\n"
     ]
    },
    {
     "data": {
      "text/html": [
       "<style>#sk-container-id-2 {color: black;}#sk-container-id-2 pre{padding: 0;}#sk-container-id-2 div.sk-toggleable {background-color: white;}#sk-container-id-2 label.sk-toggleable__label {cursor: pointer;display: block;width: 100%;margin-bottom: 0;padding: 0.3em;box-sizing: border-box;text-align: center;}#sk-container-id-2 label.sk-toggleable__label-arrow:before {content: \"▸\";float: left;margin-right: 0.25em;color: #696969;}#sk-container-id-2 label.sk-toggleable__label-arrow:hover:before {color: black;}#sk-container-id-2 div.sk-estimator:hover label.sk-toggleable__label-arrow:before {color: black;}#sk-container-id-2 div.sk-toggleable__content {max-height: 0;max-width: 0;overflow: hidden;text-align: left;background-color: #f0f8ff;}#sk-container-id-2 div.sk-toggleable__content pre {margin: 0.2em;color: black;border-radius: 0.25em;background-color: #f0f8ff;}#sk-container-id-2 input.sk-toggleable__control:checked~div.sk-toggleable__content {max-height: 200px;max-width: 100%;overflow: auto;}#sk-container-id-2 input.sk-toggleable__control:checked~label.sk-toggleable__label-arrow:before {content: \"▾\";}#sk-container-id-2 div.sk-estimator input.sk-toggleable__control:checked~label.sk-toggleable__label {background-color: #d4ebff;}#sk-container-id-2 div.sk-label input.sk-toggleable__control:checked~label.sk-toggleable__label {background-color: #d4ebff;}#sk-container-id-2 input.sk-hidden--visually {border: 0;clip: rect(1px 1px 1px 1px);clip: rect(1px, 1px, 1px, 1px);height: 1px;margin: -1px;overflow: hidden;padding: 0;position: absolute;width: 1px;}#sk-container-id-2 div.sk-estimator {font-family: monospace;background-color: #f0f8ff;border: 1px dotted black;border-radius: 0.25em;box-sizing: border-box;margin-bottom: 0.5em;}#sk-container-id-2 div.sk-estimator:hover {background-color: #d4ebff;}#sk-container-id-2 div.sk-parallel-item::after {content: \"\";width: 100%;border-bottom: 1px solid gray;flex-grow: 1;}#sk-container-id-2 div.sk-label:hover label.sk-toggleable__label {background-color: #d4ebff;}#sk-container-id-2 div.sk-serial::before {content: \"\";position: absolute;border-left: 1px solid gray;box-sizing: border-box;top: 0;bottom: 0;left: 50%;z-index: 0;}#sk-container-id-2 div.sk-serial {display: flex;flex-direction: column;align-items: center;background-color: white;padding-right: 0.2em;padding-left: 0.2em;position: relative;}#sk-container-id-2 div.sk-item {position: relative;z-index: 1;}#sk-container-id-2 div.sk-parallel {display: flex;align-items: stretch;justify-content: center;background-color: white;position: relative;}#sk-container-id-2 div.sk-item::before, #sk-container-id-2 div.sk-parallel-item::before {content: \"\";position: absolute;border-left: 1px solid gray;box-sizing: border-box;top: 0;bottom: 0;left: 50%;z-index: -1;}#sk-container-id-2 div.sk-parallel-item {display: flex;flex-direction: column;z-index: 1;position: relative;background-color: white;}#sk-container-id-2 div.sk-parallel-item:first-child::after {align-self: flex-end;width: 50%;}#sk-container-id-2 div.sk-parallel-item:last-child::after {align-self: flex-start;width: 50%;}#sk-container-id-2 div.sk-parallel-item:only-child::after {width: 0;}#sk-container-id-2 div.sk-dashed-wrapped {border: 1px dashed gray;margin: 0 0.4em 0.5em 0.4em;box-sizing: border-box;padding-bottom: 0.4em;background-color: white;}#sk-container-id-2 div.sk-label label {font-family: monospace;font-weight: bold;display: inline-block;line-height: 1.2em;}#sk-container-id-2 div.sk-label-container {text-align: center;}#sk-container-id-2 div.sk-container {/* jupyter's `normalize.less` sets `[hidden] { display: none; }` but bootstrap.min.css set `[hidden] { display: none !important; }` so we also need the `!important` here to be able to override the default hidden behavior on the sphinx rendered scikit-learn.org. See: https://github.com/scikit-learn/scikit-learn/issues/21755 */display: inline-block !important;position: relative;}#sk-container-id-2 div.sk-text-repr-fallback {display: none;}</style><div id=\"sk-container-id-2\" class=\"sk-top-container\"><div class=\"sk-text-repr-fallback\"><pre>XGBClassifier(base_score=None, booster=None, callbacks=None,\n",
       "              colsample_bylevel=None, colsample_bynode=None,\n",
       "              colsample_bytree=None, device=None, early_stopping_rounds=None,\n",
       "              enable_categorical=False, eval_metric=None, feature_types=None,\n",
       "              gamma=0.1, grow_policy=None, importance_type=None,\n",
       "              interaction_constraints=None, learning_rate=0.1, max_bin=None,\n",
       "              max_cat_threshold=None, max_cat_to_onehot=None,\n",
       "              max_delta_step=None, max_depth=6, max_leaves=None,\n",
       "              min_child_weight=100, missing=nan, monotone_constraints=None,\n",
       "              multi_strategy=None, n_estimators=None, n_jobs=2,\n",
       "              num_parallel_tree=None, random_state=None, ...)</pre><b>In a Jupyter environment, please rerun this cell to show the HTML representation or trust the notebook. <br />On GitHub, the HTML representation is unable to render, please try loading this page with nbviewer.org.</b></div><div class=\"sk-container\" hidden><div class=\"sk-item\"><div class=\"sk-estimator sk-toggleable\"><input class=\"sk-toggleable__control sk-hidden--visually\" id=\"sk-estimator-id-2\" type=\"checkbox\" checked><label for=\"sk-estimator-id-2\" class=\"sk-toggleable__label sk-toggleable__label-arrow\">XGBClassifier</label><div class=\"sk-toggleable__content\"><pre>XGBClassifier(base_score=None, booster=None, callbacks=None,\n",
       "              colsample_bylevel=None, colsample_bynode=None,\n",
       "              colsample_bytree=None, device=None, early_stopping_rounds=None,\n",
       "              enable_categorical=False, eval_metric=None, feature_types=None,\n",
       "              gamma=0.1, grow_policy=None, importance_type=None,\n",
       "              interaction_constraints=None, learning_rate=0.1, max_bin=None,\n",
       "              max_cat_threshold=None, max_cat_to_onehot=None,\n",
       "              max_delta_step=None, max_depth=6, max_leaves=None,\n",
       "              min_child_weight=100, missing=nan, monotone_constraints=None,\n",
       "              multi_strategy=None, n_estimators=None, n_jobs=2,\n",
       "              num_parallel_tree=None, random_state=None, ...)</pre></div></div></div></div></div>"
      ],
      "text/plain": [
       "XGBClassifier(base_score=None, booster=None, callbacks=None,\n",
       "              colsample_bylevel=None, colsample_bynode=None,\n",
       "              colsample_bytree=None, device=None, early_stopping_rounds=None,\n",
       "              enable_categorical=False, eval_metric=None, feature_types=None,\n",
       "              gamma=0.1, grow_policy=None, importance_type=None,\n",
       "              interaction_constraints=None, learning_rate=0.1, max_bin=None,\n",
       "              max_cat_threshold=None, max_cat_to_onehot=None,\n",
       "              max_delta_step=None, max_depth=6, max_leaves=None,\n",
       "              min_child_weight=100, missing=nan, monotone_constraints=None,\n",
       "              multi_strategy=None, n_estimators=None, n_jobs=2,\n",
       "              num_parallel_tree=None, random_state=None, ...)"
      ]
     },
     "execution_count": 17,
     "metadata": {},
     "output_type": "execute_result"
    }
   ],
   "source": [
    "model.fit(X_train, y_train, eval_set=eval_set,\\\n",
    "          eval_metric=\"auc\", verbose=True, early_stopping_rounds=30)"
   ]
  },
  {
   "cell_type": "code",
   "execution_count": 18,
   "metadata": {},
   "outputs": [],
   "source": [
    "X_valid_0 = X_valid.copy(); X_valid_0['treatment_group_key'] = 0\n",
    "X_valid_1 = X_valid.copy(); X_valid_1['treatment_group_key'] = 1\n",
    "Uplift = model.predict_proba(X_valid_1)[:,1]\\\n",
    "    - model.predict_proba(X_valid_0)[:,1]"
   ]
  },
  {
   "cell_type": "code",
   "execution_count": 19,
   "metadata": {},
   "outputs": [
    {
     "data": {
      "text/plain": [
       "Text(0, 0.5, 'Number of observations in validation set')"
      ]
     },
     "execution_count": 19,
     "metadata": {},
     "output_type": "execute_result"
    },
    {
     "data": {
      "image/png": "[encoded data removed]",
      "text/plain": [
       "<Figure size 1200x800 with 1 Axes>"
      ]
     },
     "metadata": {},
     "output_type": "display_data"
    }
   ],
   "source": [
    "mpl.rcParams['figure.dpi'] = 200\n",
    "mpl.rcParams['figure.figsize'] = (6,4)\n",
    "plt.hist(Uplift, bins=50)\n",
    "plt.xlabel('Uplift score')\n",
    "plt.ylabel('Number of observations in validation set')"
   ]
  }
 ],
 "metadata": {
  "kernelspec": {
   "display_name": "Python 3",
   "language": "python",
   "name": "python3"
  },
  "language_info": {
   "codemirror_mode": {
    "name": "ipython",
    "version": 3
   },
   "file_extension": ".py",
   "mimetype": "text/x-python",
   "name": "python",
   "nbconvert_exporter": "python",
   "pygments_lexer": "ipython3",
   "version": "3.10.5"
  },
  "orig_nbformat": 4
 },
 "nbformat": 4,
 "nbformat_minor": 2
}
