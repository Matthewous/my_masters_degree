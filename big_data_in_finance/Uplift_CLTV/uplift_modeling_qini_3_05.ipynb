{
  "cells": [
    {
      "cell_type": "markdown",
      "metadata": {
        "id": "YgLVKuMx-0Sv"
      },
      "source": [
        "# Uplift Modeling для предсказания \"целевых\" клиентов"
      ]
    },
    {
      "cell_type": "markdown",
      "metadata": {
        "id": "YCufHSxj-0S4"
      },
      "source": [
        "# Установка библиотек"
      ]
    },
    {
      "cell_type": "code",
      "execution_count": 32,
      "metadata": {
        "_cell_guid": "b1076dfc-b9ad-4769-8c92-a6c4dae69d19",
        "_uuid": "8f2839f25d086af736a60e9eeb907d3b93b6e0e5",
        "id": "9GepH9Eq-0S5",
        "trusted": true
      },
      "outputs": [],
      "source": [
        "import numpy as np, matplotlib as mpl, matplotlib.pyplot as plt, pandas as pd\n",
        "import seaborn as sns, math, os, warnings\n",
        "warnings.filterwarnings('ignore')"
      ]
    },
    {
      "cell_type": "markdown",
      "metadata": {
        "id": "xcVDZZRg-0S8"
      },
      "source": [
        "# Data Exploration"
      ]
    },
    {
      "cell_type": "code",
      "execution_count": 33,
      "metadata": {
        "_cell_guid": "79c7e3d0-c299-4dcb-8224-4455121ee9b0",
        "_uuid": "d629ff2d2480ee46fbb7e2d37f6b5fab8052498a",
        "id": "k71qxWUL-0S-",
        "trusted": true
      },
      "outputs": [],
      "source": [
        "# Загрузим данные\n",
        "df_data = pd.read_csv('/Users/matthew/Documents/GitHub/my_masters_degree/Uplift_CLTV/uplift_synthetic_data_100trials.csv')\n",
        "df_model = df_data.copy()"
      ]
    },
    {
      "cell_type": "code",
      "execution_count": 34,
      "metadata": {
        "colab": {
          "base_uri": "https://localhost:8080/",
          "height": 206
        },
        "id": "B1w5BE-P-0S_",
        "outputId": "6df956a7-4ccd-4725-92ae-87399b095f40",
        "trusted": true
      },
      "outputs": [
        {
          "data": {
            "text/html": [
              "<div>\n",
              "<style scoped>\n",
              "    .dataframe tbody tr th:only-of-type {\n",
              "        vertical-align: middle;\n",
              "    }\n",
              "\n",
              "    .dataframe tbody tr th {\n",
              "        vertical-align: top;\n",
              "    }\n",
              "\n",
              "    .dataframe thead th {\n",
              "        text-align: right;\n",
              "    }\n",
              "</style>\n",
              "<table border=\"1\" class=\"dataframe\">\n",
              "  <thead>\n",
              "    <tr style=\"text-align: right;\">\n",
              "      <th></th>\n",
              "      <th>Unnamed: 0</th>\n",
              "      <th>trial_id</th>\n",
              "      <th>treatment_group_key</th>\n",
              "      <th>conversion</th>\n",
              "      <th>control_conversion_prob</th>\n",
              "      <th>treatment1_conversion_prob</th>\n",
              "      <th>treatment1_true_effect</th>\n",
              "      <th>x1_informative</th>\n",
              "      <th>x2_informative</th>\n",
              "      <th>x3_informative</th>\n",
              "      <th>...</th>\n",
              "      <th>x27_irrelevant</th>\n",
              "      <th>x28_irrelevant</th>\n",
              "      <th>x29_irrelevant</th>\n",
              "      <th>x30_irrelevant</th>\n",
              "      <th>x31_uplift_increase</th>\n",
              "      <th>x32_uplift_increase</th>\n",
              "      <th>x33_uplift_increase</th>\n",
              "      <th>x34_uplift_increase</th>\n",
              "      <th>x35_uplift_increase</th>\n",
              "      <th>x36_uplift_increase</th>\n",
              "    </tr>\n",
              "  </thead>\n",
              "  <tbody>\n",
              "    <tr>\n",
              "      <th>0</th>\n",
              "      <td>0</td>\n",
              "      <td>0</td>\n",
              "      <td>control</td>\n",
              "      <td>1</td>\n",
              "      <td>0.516606</td>\n",
              "      <td>0.572609</td>\n",
              "      <td>0.056002</td>\n",
              "      <td>-1.926651</td>\n",
              "      <td>1.233472</td>\n",
              "      <td>-0.475120</td>\n",
              "      <td>...</td>\n",
              "      <td>-0.378145</td>\n",
              "      <td>-0.110782</td>\n",
              "      <td>1.087180</td>\n",
              "      <td>-1.222069</td>\n",
              "      <td>-0.279009</td>\n",
              "      <td>1.013911</td>\n",
              "      <td>-0.570859</td>\n",
              "      <td>-1.158216</td>\n",
              "      <td>-1.336279</td>\n",
              "      <td>-0.708056</td>\n",
              "    </tr>\n",
              "    <tr>\n",
              "      <th>1</th>\n",
              "      <td>1</td>\n",
              "      <td>0</td>\n",
              "      <td>treatment1</td>\n",
              "      <td>1</td>\n",
              "      <td>0.304005</td>\n",
              "      <td>0.736460</td>\n",
              "      <td>0.432454</td>\n",
              "      <td>0.904364</td>\n",
              "      <td>0.868705</td>\n",
              "      <td>-0.285977</td>\n",
              "      <td>...</td>\n",
              "      <td>-0.742847</td>\n",
              "      <td>0.700239</td>\n",
              "      <td>0.001867</td>\n",
              "      <td>-0.069362</td>\n",
              "      <td>0.045789</td>\n",
              "      <td>1.364182</td>\n",
              "      <td>-0.261643</td>\n",
              "      <td>0.478074</td>\n",
              "      <td>0.531477</td>\n",
              "      <td>0.402723</td>\n",
              "    </tr>\n",
              "    <tr>\n",
              "      <th>2</th>\n",
              "      <td>2</td>\n",
              "      <td>0</td>\n",
              "      <td>treatment1</td>\n",
              "      <td>0</td>\n",
              "      <td>0.134277</td>\n",
              "      <td>0.480985</td>\n",
              "      <td>0.346709</td>\n",
              "      <td>1.680978</td>\n",
              "      <td>1.320889</td>\n",
              "      <td>0.059273</td>\n",
              "      <td>...</td>\n",
              "      <td>0.748884</td>\n",
              "      <td>-0.856898</td>\n",
              "      <td>-0.268034</td>\n",
              "      <td>-2.181874</td>\n",
              "      <td>1.473214</td>\n",
              "      <td>-1.256641</td>\n",
              "      <td>0.901139</td>\n",
              "      <td>2.029204</td>\n",
              "      <td>-0.280445</td>\n",
              "      <td>0.873970</td>\n",
              "    </tr>\n",
              "    <tr>\n",
              "      <th>3</th>\n",
              "      <td>3</td>\n",
              "      <td>0</td>\n",
              "      <td>treatment1</td>\n",
              "      <td>1</td>\n",
              "      <td>0.801968</td>\n",
              "      <td>0.858532</td>\n",
              "      <td>0.056563</td>\n",
              "      <td>-0.335774</td>\n",
              "      <td>-2.940232</td>\n",
              "      <td>-0.302521</td>\n",
              "      <td>...</td>\n",
              "      <td>0.151074</td>\n",
              "      <td>0.067547</td>\n",
              "      <td>-0.839246</td>\n",
              "      <td>0.587575</td>\n",
              "      <td>0.412081</td>\n",
              "      <td>0.141189</td>\n",
              "      <td>0.369611</td>\n",
              "      <td>-0.364984</td>\n",
              "      <td>-1.509045</td>\n",
              "      <td>-1.335023</td>\n",
              "    </tr>\n",
              "    <tr>\n",
              "      <th>4</th>\n",
              "      <td>4</td>\n",
              "      <td>0</td>\n",
              "      <td>control</td>\n",
              "      <td>0</td>\n",
              "      <td>0.063552</td>\n",
              "      <td>0.060142</td>\n",
              "      <td>-0.003410</td>\n",
              "      <td>-0.475881</td>\n",
              "      <td>-0.485793</td>\n",
              "      <td>0.978582</td>\n",
              "      <td>...</td>\n",
              "      <td>-1.287117</td>\n",
              "      <td>1.256396</td>\n",
              "      <td>-1.155307</td>\n",
              "      <td>-0.414787</td>\n",
              "      <td>1.163851</td>\n",
              "      <td>0.698114</td>\n",
              "      <td>0.088157</td>\n",
              "      <td>0.478717</td>\n",
              "      <td>-0.680588</td>\n",
              "      <td>-2.730850</td>\n",
              "    </tr>\n",
              "  </tbody>\n",
              "</table>\n",
              "<p>5 rows × 43 columns</p>\n",
              "</div>"
            ],
            "text/plain": [
              "   Unnamed: 0  trial_id treatment_group_key  conversion  \\\n",
              "0           0         0             control           1   \n",
              "1           1         0          treatment1           1   \n",
              "2           2         0          treatment1           0   \n",
              "3           3         0          treatment1           1   \n",
              "4           4         0             control           0   \n",
              "\n",
              "   control_conversion_prob  treatment1_conversion_prob  \\\n",
              "0                 0.516606                    0.572609   \n",
              "1                 0.304005                    0.736460   \n",
              "2                 0.134277                    0.480985   \n",
              "3                 0.801968                    0.858532   \n",
              "4                 0.063552                    0.060142   \n",
              "\n",
              "   treatment1_true_effect  x1_informative  x2_informative  x3_informative  \\\n",
              "0                0.056002       -1.926651        1.233472       -0.475120   \n",
              "1                0.432454        0.904364        0.868705       -0.285977   \n",
              "2                0.346709        1.680978        1.320889        0.059273   \n",
              "3                0.056563       -0.335774       -2.940232       -0.302521   \n",
              "4               -0.003410       -0.475881       -0.485793        0.978582   \n",
              "\n",
              "   ...  x27_irrelevant  x28_irrelevant  x29_irrelevant  x30_irrelevant  \\\n",
              "0  ...       -0.378145       -0.110782        1.087180       -1.222069   \n",
              "1  ...       -0.742847        0.700239        0.001867       -0.069362   \n",
              "2  ...        0.748884       -0.856898       -0.268034       -2.181874   \n",
              "3  ...        0.151074        0.067547       -0.839246        0.587575   \n",
              "4  ...       -1.287117        1.256396       -1.155307       -0.414787   \n",
              "\n",
              "   x31_uplift_increase  x32_uplift_increase  x33_uplift_increase  \\\n",
              "0            -0.279009             1.013911            -0.570859   \n",
              "1             0.045789             1.364182            -0.261643   \n",
              "2             1.473214            -1.256641             0.901139   \n",
              "3             0.412081             0.141189             0.369611   \n",
              "4             1.163851             0.698114             0.088157   \n",
              "\n",
              "   x34_uplift_increase  x35_uplift_increase  x36_uplift_increase  \n",
              "0            -1.158216            -1.336279            -0.708056  \n",
              "1             0.478074             0.531477             0.402723  \n",
              "2             2.029204            -0.280445             0.873970  \n",
              "3            -0.364984            -1.509045            -1.335023  \n",
              "4             0.478717            -0.680588            -2.730850  \n",
              "\n",
              "[5 rows x 43 columns]"
            ]
          },
          "execution_count": 34,
          "metadata": {},
          "output_type": "execute_result"
        }
      ],
      "source": [
        "# Посмотрим какие данные загружены\n",
        "df_model.head(5)"
      ]
    },
    {
      "cell_type": "code",
      "execution_count": 35,
      "metadata": {
        "colab": {
          "base_uri": "https://localhost:8080/"
        },
        "id": "dT57uEwX-0TC",
        "outputId": "83026fd9-8b2d-4960-ba3d-3d0e4f054355",
        "trusted": true
      },
      "outputs": [
        {
          "name": "stdout",
          "output_type": "stream",
          "text": [
            "<class 'pandas.core.frame.DataFrame'>\n",
            "RangeIndex: 1000000 entries, 0 to 999999\n",
            "Data columns (total 43 columns):\n",
            " #   Column                      Non-Null Count    Dtype  \n",
            "---  ------                      --------------    -----  \n",
            " 0   Unnamed: 0                  1000000 non-null  int64  \n",
            " 1   trial_id                    1000000 non-null  int64  \n",
            " 2   treatment_group_key         1000000 non-null  object \n",
            " 3   conversion                  1000000 non-null  int64  \n",
            " 4   control_conversion_prob     1000000 non-null  float64\n",
            " 5   treatment1_conversion_prob  1000000 non-null  float64\n",
            " 6   treatment1_true_effect      1000000 non-null  float64\n",
            " 7   x1_informative              1000000 non-null  float64\n",
            " 8   x2_informative              1000000 non-null  float64\n",
            " 9   x3_informative              1000000 non-null  float64\n",
            " 10  x4_informative              1000000 non-null  float64\n",
            " 11  x5_informative              1000000 non-null  float64\n",
            " 12  x6_informative              1000000 non-null  float64\n",
            " 13  x7_informative              1000000 non-null  float64\n",
            " 14  x8_informative              1000000 non-null  float64\n",
            " 15  x9_informative              1000000 non-null  float64\n",
            " 16  x10_informative             1000000 non-null  float64\n",
            " 17  x11_irrelevant              1000000 non-null  float64\n",
            " 18  x12_irrelevant              1000000 non-null  float64\n",
            " 19  x13_irrelevant              1000000 non-null  float64\n",
            " 20  x14_irrelevant              1000000 non-null  float64\n",
            " 21  x15_irrelevant              1000000 non-null  float64\n",
            " 22  x16_irrelevant              1000000 non-null  float64\n",
            " 23  x17_irrelevant              1000000 non-null  float64\n",
            " 24  x18_irrelevant              1000000 non-null  float64\n",
            " 25  x19_irrelevant              1000000 non-null  float64\n",
            " 26  x20_irrelevant              1000000 non-null  float64\n",
            " 27  x21_irrelevant              1000000 non-null  float64\n",
            " 28  x22_irrelevant              1000000 non-null  float64\n",
            " 29  x23_irrelevant              1000000 non-null  float64\n",
            " 30  x24_irrelevant              1000000 non-null  float64\n",
            " 31  x25_irrelevant              1000000 non-null  float64\n",
            " 32  x26_irrelevant              1000000 non-null  float64\n",
            " 33  x27_irrelevant              1000000 non-null  float64\n",
            " 34  x28_irrelevant              1000000 non-null  float64\n",
            " 35  x29_irrelevant              1000000 non-null  float64\n",
            " 36  x30_irrelevant              1000000 non-null  float64\n",
            " 37  x31_uplift_increase         1000000 non-null  float64\n",
            " 38  x32_uplift_increase         1000000 non-null  float64\n",
            " 39  x33_uplift_increase         1000000 non-null  float64\n",
            " 40  x34_uplift_increase         1000000 non-null  float64\n",
            " 41  x35_uplift_increase         1000000 non-null  float64\n",
            " 42  x36_uplift_increase         1000000 non-null  float64\n",
            "dtypes: float64(39), int64(3), object(1)\n",
            "memory usage: 328.1+ MB\n"
          ]
        }
      ],
      "source": [
        "# Проверим общую информацию о датасете (пропуски и типы данных)\n",
        "df_model.info()"
      ]
    },
    {
      "cell_type": "markdown",
      "metadata": {
        "id": "anw8BDwj-0TE"
      },
      "source": [
        "Видим, что пропусков в датасете нет."
      ]
    },
    {
      "cell_type": "code",
      "execution_count": 36,
      "metadata": {
        "colab": {
          "base_uri": "https://localhost:8080/",
          "height": 174
        },
        "id": "i31mVx40-0TF",
        "outputId": "c3c4ef5f-0dfe-438f-f4df-e5ea77cfca49",
        "trusted": true
      },
      "outputs": [
        {
          "data": {
            "text/html": [
              "<div>\n",
              "<style scoped>\n",
              "    .dataframe tbody tr th:only-of-type {\n",
              "        vertical-align: middle;\n",
              "    }\n",
              "\n",
              "    .dataframe tbody tr th {\n",
              "        vertical-align: top;\n",
              "    }\n",
              "\n",
              "    .dataframe thead th {\n",
              "        text-align: right;\n",
              "    }\n",
              "</style>\n",
              "<table border=\"1\" class=\"dataframe\">\n",
              "  <thead>\n",
              "    <tr style=\"text-align: right;\">\n",
              "      <th></th>\n",
              "      <th>treatment_group_key</th>\n",
              "    </tr>\n",
              "  </thead>\n",
              "  <tbody>\n",
              "    <tr>\n",
              "      <th>count</th>\n",
              "      <td>1000000</td>\n",
              "    </tr>\n",
              "    <tr>\n",
              "      <th>unique</th>\n",
              "      <td>2</td>\n",
              "    </tr>\n",
              "    <tr>\n",
              "      <th>top</th>\n",
              "      <td>control</td>\n",
              "    </tr>\n",
              "    <tr>\n",
              "      <th>freq</th>\n",
              "      <td>500000</td>\n",
              "    </tr>\n",
              "  </tbody>\n",
              "</table>\n",
              "</div>"
            ],
            "text/plain": [
              "       treatment_group_key\n",
              "count              1000000\n",
              "unique                   2\n",
              "top                control\n",
              "freq                500000"
            ]
          },
          "execution_count": 36,
          "metadata": {},
          "output_type": "execute_result"
        }
      ],
      "source": [
        "df_model.describe(include=object)"
      ]
    },
    {
      "cell_type": "code",
      "execution_count": 37,
      "metadata": {
        "colab": {
          "base_uri": "https://localhost:8080/"
        },
        "id": "Spdmn6Ac-0TM",
        "outputId": "1d2791ea-9ba3-40f3-d30c-14d0935edf84",
        "trusted": true
      },
      "outputs": [
        {
          "name": "stdout",
          "output_type": "stream",
          "text": [
            "\n",
            " treatment_group_key\n",
            "control 500000\n",
            "treatment1 500000\n"
          ]
        }
      ],
      "source": [
        "# Проверим уникальные значения полей типа \"object\"\n",
        "object_cols = [col for col in df_model.columns if df_model[col].dtype == \"object\"]\n",
        "for obj in object_cols:\n",
        "    print('\\n', obj)\n",
        "    for unique in df_model[obj].unique():\n",
        "        print(\"{} {}\".format(unique,sum(df_model[obj] == unique)))"
      ]
    },
    {
      "cell_type": "markdown",
      "metadata": {
        "id": "SdnXVNfy-0TN"
      },
      "source": [
        "## Предобработка данных"
      ]
    },
    {
      "cell_type": "code",
      "execution_count": 38,
      "metadata": {
        "id": "4ZnML9tL-0TN",
        "trusted": true
      },
      "outputs": [],
      "source": [
        "# Переименуем целевой признак (таргет) и столбец offer -> treatment\n",
        "df_model = df_model.rename(columns={'conversion': 'target'})\n",
        "\n",
        "df_model = df_model.rename(columns={'treatment_group_key': 'treatment'})\n",
        "df_model.treatment = df_model.treatment.map({'control': 0, 'treatment1': 1})"
      ]
    },
    {
      "cell_type": "code",
      "execution_count": 39,
      "metadata": {
        "id": "iCCBo3j--0TO",
        "trusted": true
      },
      "outputs": [],
      "source": [
        "# One-Hot Encoding:\n",
        "df_model = pd.get_dummies(df_model)"
      ]
    },
    {
      "cell_type": "code",
      "execution_count": 40,
      "metadata": {
        "id": "l-mRPcPc-0TO",
        "trusted": true
      },
      "outputs": [],
      "source": [
        "# Split data with bogo and discount\n",
        "df_model_bogo = df_model.copy().loc[df_model.treatment <=0].reset_index(drop=True)\n",
        "df_model_discount = df_model.copy().loc[df_model.treatment >=0].reset_index(drop=True)"
      ]
    },
    {
      "cell_type": "markdown",
      "metadata": {
        "id": "am30gQqe-0TO"
      },
      "source": [
        "## Определим классы клиентов\n",
        "\n",
        "* <h3> Control Non-Responders(CN) </h3>\n",
        "Клиенты, которые не сделают заказ без акции/воздействия (value = 0)\n",
        "\n",
        "* <h3> Control Responders(CR) </h3>\n",
        "Клиенты, которые сделают заказ без акции/воздействия(value = 1)\n",
        "\n",
        "* <h3> Treatment Non-Responders(TN) </h3>\n",
        "Клиенты, которые не сделали заказ и приняли акционное предложение (value = 2)\n",
        "\n",
        "* <h3> Treatment Responders(TR) </h3>\n",
        "Клиенты, которые сделали заказ и приняли акционное предложение (value = 3)\n",
        "\n",
        "\n",
        "\n",
        "\n",
        "\n",
        "\n"
      ]
    },
    {
      "cell_type": "code",
      "execution_count": 41,
      "metadata": {
        "id": "MHO9_-YN-0TP",
        "trusted": true
      },
      "outputs": [],
      "source": [
        "def declare_tc(df:pd.DataFrame):\n",
        "    \"\"\"Declare target class\n",
        "    \"\"\"\n",
        "    #CN:\n",
        "    df['target_class'] = 0\n",
        "    #CR:\n",
        "    df.loc[(df.treatment == 0) & (df.target != 0),'target_class'] = 1\n",
        "    #TN:\n",
        "    df.loc[(df.treatment != 0) & (df.target == 0),'target_class'] = 2\n",
        "    #TR:\n",
        "    df.loc[(df.treatment != 0) & (df.target != 0),'target_class'] = 3\n",
        "    return df"
      ]
    },
    {
      "cell_type": "code",
      "execution_count": 42,
      "metadata": {
        "id": "EfPY-D6f-0TP",
        "trusted": true
      },
      "outputs": [],
      "source": [
        "df_model_bogo = declare_tc(df_model_bogo)\n",
        "df_model_discount = declare_tc(df_model_discount)"
      ]
    },
    {
      "cell_type": "markdown",
      "metadata": {
        "id": "N68dPwm4-0TP"
      },
      "source": [
        "## Uplift Modeling\n",
        "Мы используем Lai’s Generalized Weighed Uplift (LGWUM) для оценки uplift score.\n",
        "<br>LGWUM один из подходов (https://www.worldscientific.com/doi/abs/10.1142/S0219622019500172) используемых в Uplift Modeling (https://dl.acm.org/doi/abs/10.1145/772862.772872). Обозначим за P вероятность, T обозначает общее число клиентов, на которых воздействовали (TR + TN), а C обозначает общее число клиентов на которых не совершали маркетингового воздействия (CR + CN).\n",
        "В этом случае Uplift Score может быть вычислена как:\n",
        "> **Uplift Score = P(TR)/P(T) + P(CN)/P(C) - P(TN)/P(T) - P(CR)/P(C)**\n"
      ]
    },
    {
      "cell_type": "code",
      "execution_count": 45,
      "metadata": {
        "id": "wcjGRPcd-0TQ",
        "trusted": true
      },
      "outputs": [],
      "source": [
        "# Functions for Uplift\n",
        "from sklearn.model_selection import train_test_split\n",
        "import xgboost as xgb\n",
        "def uplift_split(df_model:pd.DataFrame):\n",
        "    \"\"\"Train-Test Split\n",
        "    \"\"\"\n",
        "    X = df_model.drop(['x1_informative','x2_informative','x3_informative','x4_informative','x5_informative','x6_informative','x7_informative','x8_informative','x9_informative','x10_informative',],axis=1)\n",
        "    y = df_model.treatment_group_key\n",
        "    X_train, X_test, \\\n",
        "    y_train, y_test  = train_test_split(X,\n",
        "                                       y,\n",
        "                                       test_size=0.3,\n",
        "                                       random_state=42,\n",
        "                                       stratify=df_model['treatment'])\n",
        "    return X_train,X_test, y_train, y_test\n",
        "\n",
        "\n",
        "def uplift_model(X_train:pd.DataFrame,\n",
        "                 X_test:pd.DataFrame,\n",
        "                 y_train:pd.DataFrame,\n",
        "                 y_test:pd.DataFrame):\n",
        "    \"\"\"Using XGB to get the uplift score\n",
        "    \"\"\"\n",
        "    # Create new dataframe\n",
        "    result = pd.DataFrame(X_test).copy()\n",
        "    # Fit the model\n",
        "    uplift_model \\\n",
        "    = xgb.XGBClassifier().fit(X_train.drop('treatment', axis=1), y_train)\n",
        "\n",
        "\n",
        "    # Predict using test-data\n",
        "    uplift_proba \\\n",
        "    = uplift_model.predict_proba(X_test.drop('treatment', axis=1))\n",
        "    result['proba_CN'] = uplift_proba[:,0]\n",
        "    result['proba_CR'] = uplift_proba[:,1]\n",
        "    result['proba_TN'] = uplift_proba[:,2]\n",
        "    result['proba_TR'] = uplift_proba[:,3]\n",
        "    result['uplift_score'] = result.eval('\\\n",
        "    proba_CN/(proba_CN+proba_CR) \\\n",
        "    + proba_TR/(proba_TN+proba_TR) \\\n",
        "    - proba_TN/(proba_TN+proba_TR) \\\n",
        "    - proba_CR/(proba_CN+proba_CR)')\n",
        "    # Put the result\n",
        "    result['target_class'] = y_test\n",
        "    return result\n",
        "\n",
        "\n",
        "def uplift(df_model:pd.DataFrame):\n",
        "    \"\"\"Combine the split and Modeling function\n",
        "    \"\"\"\n",
        "    X_train, X_test, y_train, y_test = uplift_split(df_model)\n",
        "    result = uplift_model(X_train, X_test, y_train, y_test)\n",
        "    return result"
      ]
    },
    {
      "cell_type": "code",
      "execution_count": 46,
      "metadata": {
        "id": "7EgjBTSB-0TR",
        "trusted": true
      },
      "outputs": [
        {
          "ename": "AttributeError",
          "evalue": "'DataFrame' object has no attribute 'treatment_group_key'",
          "output_type": "error",
          "traceback": [
            "\u001b[0;31m---------------------------------------------------------------------------\u001b[0m",
            "\u001b[0;31mAttributeError\u001b[0m                            Traceback (most recent call last)",
            "\u001b[1;32m/Users/matthew/Documents/GitHub/my_masters_degree/Uplift_CLTV/uplift_modeling_qini_3_05.ipynb Ячейка 20\u001b[0m line \u001b[0;36m2\n\u001b[1;32m      <a href='vscode-notebook-cell:/Users/matthew/Documents/GitHub/my_masters_degree/Uplift_CLTV/uplift_modeling_qini_3_05.ipynb#X25sZmlsZQ%3D%3D?line=0'>1</a>\u001b[0m \u001b[39m# Run the uplift function\u001b[39;00m\n\u001b[0;32m----> <a href='vscode-notebook-cell:/Users/matthew/Documents/GitHub/my_masters_degree/Uplift_CLTV/uplift_modeling_qini_3_05.ipynb#X25sZmlsZQ%3D%3D?line=1'>2</a>\u001b[0m bogo_uplift \u001b[39m=\u001b[39m uplift(df_model_bogo)\n\u001b[1;32m      <a href='vscode-notebook-cell:/Users/matthew/Documents/GitHub/my_masters_degree/Uplift_CLTV/uplift_modeling_qini_3_05.ipynb#X25sZmlsZQ%3D%3D?line=2'>3</a>\u001b[0m \u001b[39m# discount_uplift = uplift(df_model_discount)\u001b[39;00m\n",
            "\u001b[1;32m/Users/matthew/Documents/GitHub/my_masters_degree/Uplift_CLTV/uplift_modeling_qini_3_05.ipynb Ячейка 20\u001b[0m line \u001b[0;36m5\n\u001b[1;32m     <a href='vscode-notebook-cell:/Users/matthew/Documents/GitHub/my_masters_degree/Uplift_CLTV/uplift_modeling_qini_3_05.ipynb#X25sZmlsZQ%3D%3D?line=47'>48</a>\u001b[0m \u001b[39mdef\u001b[39;00m \u001b[39muplift\u001b[39m(df_model:pd\u001b[39m.\u001b[39mDataFrame):\n\u001b[1;32m     <a href='vscode-notebook-cell:/Users/matthew/Documents/GitHub/my_masters_degree/Uplift_CLTV/uplift_modeling_qini_3_05.ipynb#X25sZmlsZQ%3D%3D?line=48'>49</a>\u001b[0m \u001b[39m    \u001b[39m\u001b[39m\"\"\"Combine the split and Modeling function\u001b[39;00m\n\u001b[1;32m     <a href='vscode-notebook-cell:/Users/matthew/Documents/GitHub/my_masters_degree/Uplift_CLTV/uplift_modeling_qini_3_05.ipynb#X25sZmlsZQ%3D%3D?line=49'>50</a>\u001b[0m \u001b[39m    \"\"\"\u001b[39;00m\n\u001b[0;32m---> <a href='vscode-notebook-cell:/Users/matthew/Documents/GitHub/my_masters_degree/Uplift_CLTV/uplift_modeling_qini_3_05.ipynb#X25sZmlsZQ%3D%3D?line=50'>51</a>\u001b[0m     X_train, X_test, y_train, y_test \u001b[39m=\u001b[39m uplift_split(df_model)\n\u001b[1;32m     <a href='vscode-notebook-cell:/Users/matthew/Documents/GitHub/my_masters_degree/Uplift_CLTV/uplift_modeling_qini_3_05.ipynb#X25sZmlsZQ%3D%3D?line=51'>52</a>\u001b[0m     result \u001b[39m=\u001b[39m uplift_model(X_train, X_test, y_train, y_test)\n\u001b[1;32m     <a href='vscode-notebook-cell:/Users/matthew/Documents/GitHub/my_masters_degree/Uplift_CLTV/uplift_modeling_qini_3_05.ipynb#X25sZmlsZQ%3D%3D?line=52'>53</a>\u001b[0m     \u001b[39mreturn\u001b[39;00m result\n",
            "\u001b[1;32m/Users/matthew/Documents/GitHub/my_masters_degree/Uplift_CLTV/uplift_modeling_qini_3_05.ipynb Ячейка 20\u001b[0m line \u001b[0;36m8\n\u001b[1;32m      <a href='vscode-notebook-cell:/Users/matthew/Documents/GitHub/my_masters_degree/Uplift_CLTV/uplift_modeling_qini_3_05.ipynb#X25sZmlsZQ%3D%3D?line=4'>5</a>\u001b[0m \u001b[39m\u001b[39m\u001b[39m\"\"\"Train-Test Split\u001b[39;00m\n\u001b[1;32m      <a href='vscode-notebook-cell:/Users/matthew/Documents/GitHub/my_masters_degree/Uplift_CLTV/uplift_modeling_qini_3_05.ipynb#X25sZmlsZQ%3D%3D?line=5'>6</a>\u001b[0m \u001b[39m\"\"\"\u001b[39;00m\n\u001b[1;32m      <a href='vscode-notebook-cell:/Users/matthew/Documents/GitHub/my_masters_degree/Uplift_CLTV/uplift_modeling_qini_3_05.ipynb#X25sZmlsZQ%3D%3D?line=6'>7</a>\u001b[0m X \u001b[39m=\u001b[39m df_model\u001b[39m.\u001b[39mdrop([\u001b[39m'\u001b[39m\u001b[39mx1_informative\u001b[39m\u001b[39m'\u001b[39m,\u001b[39m'\u001b[39m\u001b[39mx2_informative\u001b[39m\u001b[39m'\u001b[39m,\u001b[39m'\u001b[39m\u001b[39mx3_informative\u001b[39m\u001b[39m'\u001b[39m,\u001b[39m'\u001b[39m\u001b[39mx4_informative\u001b[39m\u001b[39m'\u001b[39m,\u001b[39m'\u001b[39m\u001b[39mx5_informative\u001b[39m\u001b[39m'\u001b[39m,\u001b[39m'\u001b[39m\u001b[39mx6_informative\u001b[39m\u001b[39m'\u001b[39m,\u001b[39m'\u001b[39m\u001b[39mx7_informative\u001b[39m\u001b[39m'\u001b[39m,\u001b[39m'\u001b[39m\u001b[39mx8_informative\u001b[39m\u001b[39m'\u001b[39m,\u001b[39m'\u001b[39m\u001b[39mx9_informative\u001b[39m\u001b[39m'\u001b[39m,\u001b[39m'\u001b[39m\u001b[39mx10_informative\u001b[39m\u001b[39m'\u001b[39m,],axis\u001b[39m=\u001b[39m\u001b[39m1\u001b[39m)\n\u001b[0;32m----> <a href='vscode-notebook-cell:/Users/matthew/Documents/GitHub/my_masters_degree/Uplift_CLTV/uplift_modeling_qini_3_05.ipynb#X25sZmlsZQ%3D%3D?line=7'>8</a>\u001b[0m y \u001b[39m=\u001b[39m df_model\u001b[39m.\u001b[39;49mtreatment_group_key\n\u001b[1;32m      <a href='vscode-notebook-cell:/Users/matthew/Documents/GitHub/my_masters_degree/Uplift_CLTV/uplift_modeling_qini_3_05.ipynb#X25sZmlsZQ%3D%3D?line=8'>9</a>\u001b[0m X_train, X_test, \\\n\u001b[1;32m     <a href='vscode-notebook-cell:/Users/matthew/Documents/GitHub/my_masters_degree/Uplift_CLTV/uplift_modeling_qini_3_05.ipynb#X25sZmlsZQ%3D%3D?line=9'>10</a>\u001b[0m y_train, y_test  \u001b[39m=\u001b[39m train_test_split(X,\n\u001b[1;32m     <a href='vscode-notebook-cell:/Users/matthew/Documents/GitHub/my_masters_degree/Uplift_CLTV/uplift_modeling_qini_3_05.ipynb#X25sZmlsZQ%3D%3D?line=10'>11</a>\u001b[0m                                    y,\n\u001b[1;32m     <a href='vscode-notebook-cell:/Users/matthew/Documents/GitHub/my_masters_degree/Uplift_CLTV/uplift_modeling_qini_3_05.ipynb#X25sZmlsZQ%3D%3D?line=11'>12</a>\u001b[0m                                    test_size\u001b[39m=\u001b[39m\u001b[39m0.3\u001b[39m,\n\u001b[1;32m     <a href='vscode-notebook-cell:/Users/matthew/Documents/GitHub/my_masters_degree/Uplift_CLTV/uplift_modeling_qini_3_05.ipynb#X25sZmlsZQ%3D%3D?line=12'>13</a>\u001b[0m                                    random_state\u001b[39m=\u001b[39m\u001b[39m42\u001b[39m,\n\u001b[1;32m     <a href='vscode-notebook-cell:/Users/matthew/Documents/GitHub/my_masters_degree/Uplift_CLTV/uplift_modeling_qini_3_05.ipynb#X25sZmlsZQ%3D%3D?line=13'>14</a>\u001b[0m                                    stratify\u001b[39m=\u001b[39mdf_model[\u001b[39m'\u001b[39m\u001b[39mtreatment\u001b[39m\u001b[39m'\u001b[39m])\n\u001b[1;32m     <a href='vscode-notebook-cell:/Users/matthew/Documents/GitHub/my_masters_degree/Uplift_CLTV/uplift_modeling_qini_3_05.ipynb#X25sZmlsZQ%3D%3D?line=14'>15</a>\u001b[0m \u001b[39mreturn\u001b[39;00m X_train,X_test, y_train, y_test\n",
            "File \u001b[0;32m/Library/Frameworks/Python.framework/Versions/3.10/lib/python3.10/site-packages/pandas/core/generic.py:6204\u001b[0m, in \u001b[0;36mNDFrame.__getattr__\u001b[0;34m(self, name)\u001b[0m\n\u001b[1;32m   6197\u001b[0m \u001b[39mif\u001b[39;00m (\n\u001b[1;32m   6198\u001b[0m     name \u001b[39mnot\u001b[39;00m \u001b[39min\u001b[39;00m \u001b[39mself\u001b[39m\u001b[39m.\u001b[39m_internal_names_set\n\u001b[1;32m   6199\u001b[0m     \u001b[39mand\u001b[39;00m name \u001b[39mnot\u001b[39;00m \u001b[39min\u001b[39;00m \u001b[39mself\u001b[39m\u001b[39m.\u001b[39m_metadata\n\u001b[1;32m   6200\u001b[0m     \u001b[39mand\u001b[39;00m name \u001b[39mnot\u001b[39;00m \u001b[39min\u001b[39;00m \u001b[39mself\u001b[39m\u001b[39m.\u001b[39m_accessors\n\u001b[1;32m   6201\u001b[0m     \u001b[39mand\u001b[39;00m \u001b[39mself\u001b[39m\u001b[39m.\u001b[39m_info_axis\u001b[39m.\u001b[39m_can_hold_identifiers_and_holds_name(name)\n\u001b[1;32m   6202\u001b[0m ):\n\u001b[1;32m   6203\u001b[0m     \u001b[39mreturn\u001b[39;00m \u001b[39mself\u001b[39m[name]\n\u001b[0;32m-> 6204\u001b[0m \u001b[39mreturn\u001b[39;00m \u001b[39mobject\u001b[39;49m\u001b[39m.\u001b[39;49m\u001b[39m__getattribute__\u001b[39;49m(\u001b[39mself\u001b[39;49m, name)\n",
            "\u001b[0;31mAttributeError\u001b[0m: 'DataFrame' object has no attribute 'treatment_group_key'"
          ]
        }
      ],
      "source": [
        "# Run the uplift function\n",
        "bogo_uplift = uplift(df_model_bogo)\n",
        "# discount_uplift = uplift(df_model_discount)"
      ]
    },
    {
      "cell_type": "markdown",
      "metadata": {
        "id": "O02RhdcB-0TR"
      },
      "source": [
        "# Оценка модели - кривая QINI\n",
        "QINI (Uplift value) вычислыется как:\n",
        "> **QINI = TR - [(CR*T)/C]**\n",
        "\n",
        "или в процентах:\n",
        "> **QINI = (TR/T) - (CR/C)**"
      ]
    },
    {
      "cell_type": "code",
      "execution_count": null,
      "metadata": {
        "id": "jWegrIQD-0TR",
        "trusted": true
      },
      "outputs": [],
      "source": [
        "# Functions to build the Uplift model and visualize the QINI Curve\n",
        "def qini_rank(uplift:pd.DataFrame):\n",
        "    \"\"\"Rank the data by the uplift score\n",
        "    \"\"\"\n",
        "    # Creat new dataframe\n",
        "    ranked = pd.DataFrame({'n':[], 'target_class':[]})\n",
        "    ranked['target_class'] = uplift['target_class']\n",
        "    ranked['uplift_score'] = uplift['uplift_score']\n",
        "\n",
        "\n",
        "    # Add proportion\n",
        "    ranked['n'] = ranked.uplift_score.rank(pct=True, ascending=False)\n",
        "    # Data Ranking\n",
        "    ranked = ranked.sort_values(by='n').reset_index(drop=True)\n",
        "    return ranked\n",
        "\n",
        "\n",
        "def qini_eval(ranked:pd.DataFrame):\n",
        "    \"\"\"Evaluate the uplift value with the QINI criterion\n",
        "    \"\"\"\n",
        "    uplift_model, random_model = ranked.copy(), ranked.copy()\n",
        "    # Using Treatment and Control Group to calculate the uplift (Incremental gain)\n",
        "    C, T = sum(ranked['target_class'] <= 1), sum(ranked['target_class'] >= 2)\n",
        "    ranked['cr'] = 0\n",
        "    ranked['tr'] = 0\n",
        "    ranked.loc[ranked.target_class == 1,'cr'] = 1\n",
        "    ranked.loc[ranked.target_class == 3,'tr'] = 1\n",
        "    ranked['cr/c'] = ranked.cr.cumsum() / C\n",
        "    ranked['tr/t'] = ranked.tr.cumsum() / T\n",
        "    # Calculate and put the uplift and random value into dataframe\n",
        "    uplift_model['uplift'] = round(ranked['tr/t'] - ranked['cr/c'],5)\n",
        "    random_model['uplift'] = round(ranked['n'] * uplift_model['uplift'].iloc[-1],5)\n",
        "\n",
        "\n",
        "    # Add q0\n",
        "    q0 = pd.DataFrame({'n':0, 'uplift':0, 'target_class': None}, index =[0])\n",
        "    uplift_model = pd.concat([q0, uplift_model]).reset_index(drop = True)\n",
        "    random_model = pd.concat([q0, random_model]).reset_index(drop = True)\n",
        "    # Add model name & concat\n",
        "    uplift_model['model'] = 'Uplift model'\n",
        "    random_model['model'] = 'Random model'\n",
        "    merged = pd.concat([uplift_model, random_model]).sort_values(by='n').reset_index(drop = True)\n",
        "    return merged\n",
        "\n",
        "\n",
        "def qini_plot(merged:pd.DataFrame):\n",
        "    \"\"\"Plot the QINI\n",
        "    \"\"\"\n",
        "    # plot the data\n",
        "    ax = sns.lineplot(x='n', y='uplift', hue='model', data=merged,\n",
        "                      style='model', palette=['red','grey'])\n",
        "\n",
        "\n",
        "    # Plot settings\n",
        "    sns.set_style('whitegrid')\n",
        "    handles, labels = ax.get_legend_handles_labels()\n",
        "    plt.xlabel('Proportion targeted',fontsize=15)\n",
        "    plt.ylabel('Uplift',fontsize=15)\n",
        "    plt.subplots_adjust(right=1)\n",
        "    plt.subplots_adjust(top=1)\n",
        "    plt.legend(fontsize=12)\n",
        "    ax.tick_params(labelsize=15)\n",
        "    ax.legend(handles=handles[1:], labels=labels[1:], loc='upper right')\n",
        "    return ax\n",
        "\n",
        "\n",
        "def qini(uplift:pd.DataFrame):\n",
        "    \"\"\"Combine all functions\n",
        "    \"\"\"\n",
        "    ranked = qini_rank(uplift)\n",
        "    merged = qini_eval(ranked)\n",
        "    ax = qini_plot(merged)\n",
        "    return ax"
      ]
    },
    {
      "cell_type": "markdown",
      "metadata": {
        "id": "zlEY1eyP-0TS"
      },
      "source": [
        "# Результаты\n",
        "Кривая QINI показывает, что применение uplift модели для выбора клиентов для взаимодействия показывает лучшие результаты чем случайная модель."
      ]
    },
    {
      "cell_type": "code",
      "execution_count": null,
      "metadata": {
        "colab": {
          "base_uri": "https://localhost:8080/",
          "height": 566
        },
        "id": "skddAhw4-0TS",
        "outputId": "4b5fcb12-cb3a-48d1-e53f-f49cb143614a",
        "trusted": true
      },
      "outputs": [],
      "source": [
        "# plot the Qini curve for BOGO treatment\n",
        "qini(bogo_uplift)\n",
        "plt.title('Qini Curve - Buy One Get One',fontsize=20)"
      ]
    },
    {
      "cell_type": "code",
      "execution_count": null,
      "metadata": {
        "colab": {
          "base_uri": "https://localhost:8080/",
          "height": 549
        },
        "id": "HZhQtozg-0TS",
        "outputId": "1ca6dd85-a9e6-4a43-cf3b-88d3632a5e9f",
        "trusted": true
      },
      "outputs": [],
      "source": [
        "# plot the Qini curve for Discount treatment\n",
        "# qini(discount_uplift)\n",
        "# plt.title('Qini Curve - Discount',fontsize=20);"
      ]
    }
  ],
  "metadata": {
    "colab": {
      "provenance": []
    },
    "kernelspec": {
      "display_name": "Python 3",
      "language": "python",
      "name": "python3"
    },
    "language_info": {
      "codemirror_mode": {
        "name": "ipython",
        "version": 3
      },
      "file_extension": ".py",
      "mimetype": "text/x-python",
      "name": "python",
      "nbconvert_exporter": "python",
      "pygments_lexer": "ipython3",
      "version": "3.10.5"
    }
  },
  "nbformat": 4,
  "nbformat_minor": 0
}
