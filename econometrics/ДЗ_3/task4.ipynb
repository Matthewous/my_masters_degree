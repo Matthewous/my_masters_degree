{
 "cells": [
  {
   "cell_type": "code",
   "execution_count": 16,
   "metadata": {},
   "outputs": [],
   "source": [
    "import pandas as pd\n",
    "import numpy as np\n",
    "from sklearn.linear_model import LinearRegression\n",
    "from sklearn.feature_selection import f_regression\n",
    "import statsmodels.api as sm"
   ]
  },
  {
   "cell_type": "code",
   "execution_count": 17,
   "metadata": {},
   "outputs": [
    {
     "name": "stderr",
     "output_type": "stream",
     "text": [
      "/Library/Frameworks/Python.framework/Versions/3.10/lib/python3.10/site-packages/openpyxl/styles/stylesheet.py:226: UserWarning: Workbook contains no default style, apply openpyxl's default\n",
      "  warn(\"Workbook contains no default style, apply openpyxl's default\")\n"
     ]
    }
   ],
   "source": [
    "# Чтение данных из файлов\n",
    "df_dollar = pd.read_excel('usd.xlsx')\n",
    "df_oil = pd.read_excel('brent.xlsx')"
   ]
  },
  {
   "cell_type": "code",
   "execution_count": 18,
   "metadata": {},
   "outputs": [],
   "source": [
    "# Объединение данных по дате\n",
    "\n",
    "df_dollar['Date'] = pd.to_datetime(df_dollar['data'])\n",
    "df_oil['Date'] = pd.to_datetime(df_oil['Дата'])\n",
    "df_dollar['curs'] = pd.to_numeric(df_dollar['curs'])\n",
    "df_oil['Значение'] = pd.to_numeric(df_oil['Значение'])\n",
    "\n",
    "df = pd.merge(df_dollar, df_oil, on='Date')"
   ]
  },
  {
   "cell_type": "code",
   "execution_count": 19,
   "metadata": {},
   "outputs": [],
   "source": [
    "# Логарифмируем значения\n",
    "df['log_dollar'] = np.log(df['curs'])\n",
    "df['log_oil'] = np.log(df['Значение'])"
   ]
  },
  {
   "cell_type": "code",
   "execution_count": 20,
   "metadata": {},
   "outputs": [],
   "source": [
    "# Подготовка данных для регрессии\n",
    "X = df[['log_oil']]\n",
    "y = df['log_dollar']"
   ]
  },
  {
   "cell_type": "code",
   "execution_count": 21,
   "metadata": {},
   "outputs": [],
   "source": [
    "X = sm.add_constant(X)"
   ]
  },
  {
   "cell_type": "code",
   "execution_count": 22,
   "metadata": {},
   "outputs": [
    {
     "name": "stdout",
     "output_type": "stream",
     "text": [
      "                            OLS Regression Results                            \n",
      "==============================================================================\n",
      "Dep. Variable:             log_dollar   R-squared:                       0.121\n",
      "Model:                            OLS   Adj. R-squared:                  0.116\n",
      "Method:                 Least Squares   F-statistic:                     26.61\n",
      "Date:                Thu, 07 Dec 2023   Prob (F-statistic):           6.12e-07\n",
      "Time:                        22:59:52   Log-Likelihood:                 142.28\n",
      "No. Observations:                 196   AIC:                            -280.6\n",
      "Df Residuals:                     194   BIC:                            -274.0\n",
      "Df Model:                           1                                         \n",
      "Covariance Type:            nonrobust                                         \n",
      "==============================================================================\n",
      "                 coef    std err          t      P>|t|      [0.025      0.975]\n",
      "------------------------------------------------------------------------------\n",
      "const          1.5197      0.563      2.699      0.008       0.409       2.630\n",
      "log_oil        0.6585      0.128      5.159      0.000       0.407       0.910\n",
      "==============================================================================\n",
      "Omnibus:                       23.234   Durbin-Watson:                   0.025\n",
      "Prob(Omnibus):                  0.000   Jarque-Bera (JB):               22.279\n",
      "Skew:                          -0.758   Prob(JB):                     1.45e-05\n",
      "Kurtosis:                       2.342   Cond. No.                         311.\n",
      "==============================================================================\n",
      "\n",
      "Notes:\n",
      "[1] Standard Errors assume that the covariance matrix of the errors is correctly specified.\n"
     ]
    }
   ],
   "source": [
    "model = sm.OLS(y, X).fit()\n",
    "print(model.summary())"
   ]
  },
  {
   "cell_type": "markdown",
   "metadata": {},
   "source": [
    "P-значение для log_oil значимо (равно 0)."
   ]
  }
 ],
 "metadata": {
  "kernelspec": {
   "display_name": "Python 3",
   "language": "python",
   "name": "python3"
  },
  "language_info": {
   "codemirror_mode": {
    "name": "ipython",
    "version": 3
   },
   "file_extension": ".py",
   "mimetype": "text/x-python",
   "name": "python",
   "nbconvert_exporter": "python",
   "pygments_lexer": "ipython3",
   "version": "3.10.5"
  },
  "orig_nbformat": 4
 },
 "nbformat": 4,
 "nbformat_minor": 2
}
