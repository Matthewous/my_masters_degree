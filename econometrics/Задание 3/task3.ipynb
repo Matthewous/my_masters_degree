{
 "cells": [
  {
   "cell_type": "code",
   "execution_count": 1,
   "metadata": {},
   "outputs": [],
   "source": [
    "import statsmodels.api as sm\n",
    "import pandas as pd"
   ]
  },
  {
   "cell_type": "code",
   "execution_count": 2,
   "metadata": {},
   "outputs": [
    {
     "name": "stderr",
     "output_type": "stream",
     "text": [
      "/Library/Frameworks/Python.framework/Versions/3.10/lib/python3.10/site-packages/openpyxl/styles/stylesheet.py:226: UserWarning: Workbook contains no default style, apply openpyxl's default\n",
      "  warn(\"Workbook contains no default style, apply openpyxl's default\")\n"
     ]
    }
   ],
   "source": [
    "df_dollar = pd.read_excel('/Users/matthew/Documents/GitHub/my_masters_degree/econometrics/Задание 3/usd.xlsx')\n",
    "df_oil = pd.read_excel('/Users/matthew/Documents/GitHub/my_masters_degree/econometrics/Задание 3/brent.xlsx')"
   ]
  },
  {
   "cell_type": "code",
   "execution_count": 6,
   "metadata": {},
   "outputs": [],
   "source": [
    "df_dollar['Date'] = pd.to_datetime(df_dollar['data'])\n",
    "df_oil['Date'] = pd.to_datetime(df_oil['Дата'])\n",
    "df_dollar['curs'] = pd.to_numeric(df_dollar['curs'])\n",
    "df_oil['Значение'] = pd.to_numeric(df_oil['Значение'])"
   ]
  },
  {
   "cell_type": "code",
   "execution_count": 7,
   "metadata": {},
   "outputs": [],
   "source": [
    "df = pd.merge(df_dollar, df_oil, on='Date', how='inner')\n",
    "y = df['curs']\n",
    "X = df['Значение']"
   ]
  },
  {
   "cell_type": "code",
   "execution_count": 8,
   "metadata": {},
   "outputs": [],
   "source": [
    "X = sm.add_constant(X)"
   ]
  },
  {
   "cell_type": "code",
   "execution_count": 9,
   "metadata": {},
   "outputs": [
    {
     "name": "stdout",
     "output_type": "stream",
     "text": [
      "                            OLS Regression Results                            \n",
      "==============================================================================\n",
      "Dep. Variable:                   curs   R-squared:                       0.149\n",
      "Model:                            OLS   Adj. R-squared:                  0.145\n",
      "Method:                 Least Squares   F-statistic:                     33.96\n",
      "Date:                Thu, 07 Dec 2023   Prob (F-statistic):           2.31e-08\n",
      "Time:                        22:30:30   Log-Likelihood:                -718.47\n",
      "No. Observations:                 196   AIC:                             1441.\n",
      "Df Residuals:                     194   BIC:                             1448.\n",
      "Df Model:                           1                                         \n",
      "Covariance Type:            nonrobust                                         \n",
      "==============================================================================\n",
      "                 coef    std err          t      P>|t|      [0.025      0.975]\n",
      "------------------------------------------------------------------------------\n",
      "const         24.0875     10.320      2.334      0.021       3.734      44.441\n",
      "Значение       0.7273      0.125      5.828      0.000       0.481       0.973\n",
      "==============================================================================\n",
      "Omnibus:                       26.476   Durbin-Watson:                   0.030\n",
      "Prob(Omnibus):                  0.000   Jarque-Bera (JB):               18.809\n",
      "Skew:                          -0.641   Prob(JB):                     8.24e-05\n",
      "Kurtosis:                       2.189   Cond. No.                     1.26e+03\n",
      "==============================================================================\n",
      "\n",
      "Notes:\n",
      "[1] Standard Errors assume that the covariance matrix of the errors is correctly specified.\n",
      "[2] The condition number is large, 1.26e+03. This might indicate that there are\n",
      "strong multicollinearity or other numerical problems.\n"
     ]
    }
   ],
   "source": [
    "model = sm.OLS(y, X).fit()\n",
    "print(model.summary())"
   ]
  },
  {
   "cell_type": "markdown",
   "metadata": {},
   "source": [
    "P-значение значимо (равно 0)."
   ]
  }
 ],
 "metadata": {
  "kernelspec": {
   "display_name": "Python 3",
   "language": "python",
   "name": "python3"
  },
  "language_info": {
   "codemirror_mode": {
    "name": "ipython",
    "version": 3
   },
   "file_extension": ".py",
   "mimetype": "text/x-python",
   "name": "python",
   "nbconvert_exporter": "python",
   "pygments_lexer": "ipython3",
   "version": "3.10.5"
  },
  "orig_nbformat": 4
 },
 "nbformat": 4,
 "nbformat_minor": 2
}
